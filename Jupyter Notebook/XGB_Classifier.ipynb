{
 "cells": [
  {
   "cell_type": "markdown",
   "metadata": {},
   "source": [
    "# Sleep Pattern Prediction - Training Random Forest\n",
    "##  Loading Libraries"
   ]
  },
  {
   "cell_type": "code",
   "execution_count": 7,
   "metadata": {
    "id": "3S4D-ONQVhN2"
   },
   "outputs": [],
   "source": [
    "import numpy as np\n",
    "from sklearn.metrics import classification_report\n",
    "#from utils import gen, chunker, WINDOW_SIZE, rescale_array\n",
    "from keras.callbacks import ModelCheckpoint, EarlyStopping, ReduceLROnPlateau\n",
    "from sklearn.metrics import f1_score, accuracy_score, classification_report\n",
    "from glob import glob\n",
    "import os\n",
    "from sklearn.model_selection import train_test_split\n",
    "from tqdm import tqdm\n",
    "import tensorflow as tf\n",
    "from xgboost import XGBClassifier\n",
    "from tensorflow.keras import optimizers, losses, activations, models\n",
    "#tf.keras.optimizers.Adam(learning_rate)\n",
    "from keras.layers import Dense, Input, Dropout, Convolution1D, MaxPool1D, GlobalMaxPool1D, GlobalAveragePooling1D, concatenate, SpatialDropout1D, TimeDistributed, Bidirectional, LSTM"
   ]
  },
  {
   "cell_type": "code",
   "execution_count": 2,
   "metadata": {
    "colab": {
     "base_uri": "https://localhost:8080/"
    },
    "id": "8INFBg_UVlHb",
    "outputId": "21f0b0a8-4917-4b2b-b6d3-1a7f42c6c5ba"
   },
   "outputs": [
    {
     "name": "stdout",
     "output_type": "stream",
     "text": [
      "Mounted at /content/drive\n"
     ]
    }
   ],
   "source": [
    "from google.colab import drive\n",
    "drive.mount('/content/drive')"
   ]
  },
  {
   "cell_type": "markdown",
   "metadata": {},
   "source": [
    "## Loading Dataset"
   ]
  },
  {
   "cell_type": "code",
   "execution_count": 3,
   "metadata": {
    "id": "mAoF-y3gVmqb"
   },
   "outputs": [],
   "source": [
    "import numpy as np\n",
    "from numpy import load"
   ]
  },
  {
   "cell_type": "code",
   "execution_count": 4,
   "metadata": {
    "id": "2VkOYW5bYZaM"
   },
   "outputs": [],
   "source": [
    "x_train = load('/content/drive/MyDrive/Iot/Data/x_train.npy')\n",
    "y_train = load('/content/drive/MyDrive/Iot/Data/y_train.npy')\n",
    "x_val = load('/content/drive/MyDrive/Iot/Data/x_val.npy')\n",
    "y_val = load('/content/drive/MyDrive/Iot/Data/y_val.npy')\n",
    "x_test = load('/content/drive/MyDrive/Iot/Data/x_test.npy')\n",
    "y_test = load('/content/drive/MyDrive/Iot/Data/y_test.npy')"
   ]
  },
  {
   "cell_type": "code",
   "execution_count": 6,
   "metadata": {
    "colab": {
     "base_uri": "https://localhost:8080/",
     "height": 35
    },
    "id": "GyipW4wIZCTI",
    "outputId": "d4777fb4-960c-45cb-e179-83bae82932ba"
   },
   "outputs": [
    {
     "data": {
      "application/vnd.google.colaboratory.intrinsic+json": {
       "type": "string"
      },
      "text/plain": [
       "'pip install xgboost'"
      ]
     },
     "execution_count": 6,
     "metadata": {},
     "output_type": "execute_result"
    }
   ],
   "source": [
    "'pip install xgboost'"
   ]
  },
  {
   "cell_type": "markdown",
   "metadata": {},
   "source": [
    "## XGBoosting Model"
   ]
  },
  {
   "cell_type": "code",
   "execution_count": 8,
   "metadata": {
    "colab": {
     "base_uri": "https://localhost:8080/"
    },
    "id": "01DtNoVHZkiF",
    "outputId": "da5736e8-c1ca-4e76-a5e8-8a0c6066f405"
   },
   "outputs": [
    {
     "data": {
      "text/plain": [
       "XGBClassifier(objective='multi:softprob')"
      ]
     },
     "execution_count": 8,
     "metadata": {},
     "output_type": "execute_result"
    }
   ],
   "source": [
    "xg_model = XGBClassifier()\n",
    "xg_model.fit(x_train, y_train)"
   ]
  },
  {
   "cell_type": "markdown",
   "metadata": {},
   "source": [
    "### Saving Model"
   ]
  },
  {
   "cell_type": "code",
   "execution_count": null,
   "metadata": {
    "colab": {
     "base_uri": "https://localhost:8080/"
    },
    "id": "X41k1_8gZs0s",
    "outputId": "bded988a-d4c3-4c14-86f4-3ba614c3aff4"
   },
   "outputs": [],
   "source": [
    "import joblib\n",
    " \n",
    "# Save the model as a pickle in a file\n",
    "joblib.dump(xg_model, '/content/drive/MyDrive/Iot/Model_Save/xgboost.pkl')"
   ]
  },
  {
   "cell_type": "markdown",
   "metadata": {},
   "source": [
    "## Testing\n",
    "### Testing on Training Data"
   ]
  },
  {
   "cell_type": "code",
   "execution_count": 10,
   "metadata": {
    "colab": {
     "base_uri": "https://localhost:8080/"
    },
    "id": "H9wD22g3Z5E8",
    "outputId": "63fe26ea-a151-4ff4-accb-333ee35da5b3"
   },
   "outputs": [
    {
     "name": "stdout",
     "output_type": "stream",
     "text": [
      "              precision    recall  f1-score   support\n",
      "\n",
      "           0       0.79      0.43      0.56     18548\n",
      "           1       0.55      0.70      0.61     18547\n",
      "           2       0.58      0.58      0.58     18547\n",
      "           3       0.77      0.94      0.85     18547\n",
      "           4       0.49      0.47      0.48     18547\n",
      "\n",
      "    accuracy                           0.62     92736\n",
      "   macro avg       0.64      0.62      0.62     92736\n",
      "weighted avg       0.64      0.62      0.62     92736\n",
      "\n"
     ]
    }
   ],
   "source": [
    "y_pred_train=xg_model.predict(x_train)\n",
    "report = classification_report(y_train, y_pred_train)\n",
    "print(report)"
   ]
  },
  {
   "cell_type": "markdown",
   "metadata": {},
   "source": [
    "### Testing on Validation Data"
   ]
  },
  {
   "cell_type": "code",
   "execution_count": 11,
   "metadata": {
    "colab": {
     "base_uri": "https://localhost:8080/"
    },
    "id": "eGOtWVzvZ9Rl",
    "outputId": "4901ebe5-ed5f-4c40-daf5-94384542f36c"
   },
   "outputs": [
    {
     "name": "stdout",
     "output_type": "stream",
     "text": [
      "              precision    recall  f1-score   support\n",
      "\n",
      "           0       0.75      0.39      0.52      2061\n",
      "           1       0.53      0.67      0.59      2061\n",
      "           2       0.54      0.54      0.54      2061\n",
      "           3       0.74      0.92      0.82      2061\n",
      "           4       0.44      0.43      0.43      2061\n",
      "\n",
      "    accuracy                           0.59     10305\n",
      "   macro avg       0.60      0.59      0.58     10305\n",
      "weighted avg       0.60      0.59      0.58     10305\n",
      "\n"
     ]
    }
   ],
   "source": [
    "y_pred_val=xg_model.predict(x_val)\n",
    "report = classification_report(y_val, y_pred_val)\n",
    "print(report)"
   ]
  },
  {
   "cell_type": "markdown",
   "metadata": {},
   "source": [
    "### Testing on Testing Data"
   ]
  },
  {
   "cell_type": "code",
   "execution_count": 12,
   "metadata": {
    "colab": {
     "base_uri": "https://localhost:8080/"
    },
    "id": "Gt0L7wHAaZtD",
    "outputId": "66e70f94-a46b-4da1-9d37-4606c5bae6a9"
   },
   "outputs": [
    {
     "name": "stdout",
     "output_type": "stream",
     "text": [
      "              precision    recall  f1-score   support\n",
      "\n",
      "           0       0.76      0.39      0.52      2289\n",
      "           1       0.52      0.66      0.58      2290\n",
      "           2       0.52      0.52      0.52      2290\n",
      "           3       0.74      0.93      0.82      2290\n",
      "           4       0.45      0.43      0.44      2290\n",
      "\n",
      "    accuracy                           0.59     11449\n",
      "   macro avg       0.60      0.59      0.58     11449\n",
      "weighted avg       0.60      0.59      0.58     11449\n",
      "\n"
     ]
    }
   ],
   "source": [
    "y_pred_test=xg_model.predict(x_test)\n",
    "report = classification_report(y_test, y_pred_test)\n",
    "print(report)"
   ]
  }
 ],
 "metadata": {
  "colab": {
   "name": "XGB Classifier.ipynb",
   "provenance": []
  },
  "kernelspec": {
   "display_name": "Python 3",
   "language": "python",
   "name": "python3"
  },
  "language_info": {
   "codemirror_mode": {
    "name": "ipython",
    "version": 3
   },
   "file_extension": ".py",
   "mimetype": "text/x-python",
   "name": "python",
   "nbconvert_exporter": "python",
   "pygments_lexer": "ipython3",
   "version": "3.8.8"
  }
 },
 "nbformat": 4,
 "nbformat_minor": 1
}
