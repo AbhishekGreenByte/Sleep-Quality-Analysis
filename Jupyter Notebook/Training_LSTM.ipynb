{
 "cells": [
  {
   "cell_type": "markdown",
   "metadata": {
    "id": "EyxuZSBuNE2R"
   },
   "source": [
    "# Sleep Pattern Prediction - Training LSTM"
   ]
  },
  {
   "cell_type": "markdown",
   "metadata": {
    "id": "PjCyD6bYNIn-"
   },
   "source": [
    "##  Loading Libraries"
   ]
  },
  {
   "cell_type": "code",
   "execution_count": 1,
   "metadata": {
    "id": "T83-hP2q9cbQ"
   },
   "outputs": [],
   "source": [
    "import numpy as np\n",
    "from sklearn.metrics import classification_report\n",
    "#from utils import gen, chunker, WINDOW_SIZE, rescale_array\n",
    "from keras.callbacks import ModelCheckpoint, EarlyStopping, ReduceLROnPlateau\n",
    "from sklearn.metrics import f1_score, accuracy_score, classification_report\n",
    "from glob import glob\n",
    "import os\n",
    "from sklearn.model_selection import train_test_split\n",
    "from tqdm import tqdm\n",
    "import tensorflow as tf\n",
    "from tensorflow.keras import optimizers, losses, activations, models\n",
    "#tf.keras.optimizers.Adam(learning_rate)\n",
    "from keras.layers import Dense, Input, Dropout, Convolution1D, MaxPool1D, GlobalMaxPool1D, GlobalAveragePooling1D, concatenate, SpatialDropout1D, TimeDistributed, Bidirectional, LSTM\n",
    "    "
   ]
  },
  {
   "cell_type": "markdown",
   "metadata": {
    "id": "235qqnGENLB-"
   },
   "source": [
    "## Loading Dataset"
   ]
  },
  {
   "cell_type": "code",
   "execution_count": 2,
   "metadata": {
    "colab": {
     "base_uri": "https://localhost:8080/"
    },
    "id": "sgB2OPyy9oyq",
    "outputId": "d5bfaa66-6129-4aef-ca89-d2e28b200f2b"
   },
   "outputs": [
    {
     "name": "stdout",
     "output_type": "stream",
     "text": [
      "Mounted at /content/drive\n"
     ]
    }
   ],
   "source": [
    "from google.colab import drive\n",
    "drive.mount('/content/drive')"
   ]
  },
  {
   "cell_type": "code",
   "execution_count": 3,
   "metadata": {
    "id": "kUgPOxbH9pU3"
   },
   "outputs": [],
   "source": [
    "import numpy as np\n",
    "from numpy import load"
   ]
  },
  {
   "cell_type": "code",
   "execution_count": 4,
   "metadata": {
    "id": "FGeZF_aO9uhR"
   },
   "outputs": [],
   "source": [
    "x_train = load('/content/drive/MyDrive/Iot/x_train.npy')\n",
    "y_train = load('/content/drive/MyDrive/Iot/y_train.npy')\n",
    "x_val = load('/content/drive/MyDrive/Iot/x_val.npy')\n",
    "y_val = load('/content/drive/MyDrive/Iot/y_val.npy')\n",
    "x_test = load('/content/drive/MyDrive/Iot/x_test.npy')\n",
    "y_test = load('/content/drive/MyDrive/Iot/y_test.npy')"
   ]
  },
  {
   "cell_type": "markdown",
   "metadata": {
    "id": "gteZ8L3QNNgq"
   },
   "source": [
    "## LSTM Model"
   ]
  },
  {
   "cell_type": "code",
   "execution_count": 5,
   "metadata": {
    "id": "rCkb9ZUv9w7j"
   },
   "outputs": [],
   "source": [
    "def get_base_model():\n",
    "    inp = Input(shape=(3000, 1))\n",
    "    img_1 = Convolution1D(16, kernel_size=10, activation=activations.relu, padding=\"valid\")(inp)\n",
    "    img_1 = Convolution1D(16, kernel_size=10, activation=activations.relu, padding=\"valid\")(img_1)\n",
    "    img_1 = MaxPool1D(pool_size=3)(img_1)\n",
    "    img_1 = SpatialDropout1D(rate=0.01)(img_1)\n",
    "    img_1 = Convolution1D(32, kernel_size=5, activation=activations.relu, padding=\"valid\")(img_1)\n",
    "    img_1 = Convolution1D(32, kernel_size=5, activation=activations.relu, padding=\"valid\")(img_1)\n",
    "    img_1 = MaxPool1D(pool_size=2)(img_1)\n",
    "    img_1 = SpatialDropout1D(rate=0.01)(img_1)\n",
    "    #img_1 = Convolution1D(64, kernel_size=5, activation=activations.relu, padding=\"valid\")(img_1)\n",
    "    #img_1 = Convolution1D(64, kernel_size=5, activation=activations.relu, padding=\"valid\")(img_1)\n",
    "    #img_1 = MaxPool1D(pool_size=2)(img_1)\n",
    "    #img_1 = SpatialDropout1D(rate=0.01)(img_1)\n",
    "    img_1 = Convolution1D(128, kernel_size=3, activation=activations.relu, padding=\"valid\")(img_1)\n",
    "    img_1 = Convolution1D(128, kernel_size=3, activation=activations.relu, padding=\"valid\")(img_1)\n",
    "    img_1 = GlobalMaxPool1D()(img_1)\n",
    "    img_1 = Dropout(rate=0.01)(img_1)\n",
    "\n",
    "    dense_1 = Dropout(0.01)(Dense(64, activation = 'sigmoid', name=\"dense_1\")(img_1))\n",
    "\n",
    "    base_model = models.Model(inputs=inp, outputs=dense_1)\n",
    "    opt = optimizers.Adam(0.001)\n",
    "\n",
    "    base_model.compile(optimizer=opt, loss=losses.sparse_categorical_crossentropy, metrics=['acc'])\n",
    "    #model.summary()\n",
    "    return base_model\n",
    "def get_model_lstm():\n",
    "    nclass = 5\n",
    "\n",
    "    seq_input = Input(shape=(None, 3000, 1))\n",
    "    base_model = get_base_model()\n",
    "    #for layer in base_model.layers:\n",
    "        #layer.trainable = False\n",
    "    encoded_sequence = TimeDistributed(base_model)(seq_input)\n",
    "    encoded_sequence = Bidirectional(LSTM(100, return_sequences=True))(encoded_sequence)\n",
    "    encoded_sequence = Dropout(rate=0.1)(encoded_sequence)\n",
    "    #encoded_sequence = Bidirectional(LSTM(100, return_sequences=True))(encoded_sequence)\n",
    "    out = TimeDistributed(Dense(nclass, activation=\"softmax\"))(encoded_sequence)\n",
    "    encoded_sequence = Dropout(rate=0.07)(encoded_sequence)\n",
    "    out = Convolution1D(nclass, kernel_size=1, activation=\"sigmoid\", padding=\"same\")(encoded_sequence)\n",
    "\n",
    "    model = models.Model(seq_input, out)\n",
    "\n",
    "    model.compile(optimizers.Adam(0.001), losses.sparse_categorical_crossentropy, metrics=['acc'])\n",
    "    model.summary()\n",
    "\n",
    "    return model"
   ]
  },
  {
   "cell_type": "code",
   "execution_count": 6,
   "metadata": {
    "id": "G-2REmb49zvb"
   },
   "outputs": [],
   "source": [
    "x_train_unsqueeze=x_train.reshape(x_train.shape[0],1,3000,1)\n",
    "x_val_unsqueeze=x_val.reshape(x_val.shape[0],1,3000,1)"
   ]
  },
  {
   "cell_type": "code",
   "execution_count": 7,
   "metadata": {
    "colab": {
     "base_uri": "https://localhost:8080/"
    },
    "id": "3FybJKZq91gE",
    "outputId": "768fb7c3-6997-4365-e592-b4cf3cd24170"
   },
   "outputs": [
    {
     "name": "stdout",
     "output_type": "stream",
     "text": [
      "Model: \"model_1\"\n",
      "_________________________________________________________________\n",
      " Layer (type)                Output Shape              Param #   \n",
      "=================================================================\n",
      " input_1 (InputLayer)        [(None, None, 3000, 1)]   0         \n",
      "                                                                 \n",
      " time_distributed (TimeDistr  (None, None, 64)         80448     \n",
      " ibuted)                                                         \n",
      "                                                                 \n",
      " bidirectional (Bidirectiona  (None, None, 200)        132000    \n",
      " l)                                                              \n",
      "                                                                 \n",
      " dropout_2 (Dropout)         (None, None, 200)         0         \n",
      "                                                                 \n",
      " dropout_3 (Dropout)         (None, None, 200)         0         \n",
      "                                                                 \n",
      " conv1d_6 (Conv1D)           (None, None, 5)           1005      \n",
      "                                                                 \n",
      "=================================================================\n",
      "Total params: 213,453\n",
      "Trainable params: 213,453\n",
      "Non-trainable params: 0\n",
      "_________________________________________________________________\n"
     ]
    }
   ],
   "source": [
    "lstm_model=get_model_lstm()"
   ]
  },
  {
   "cell_type": "code",
   "execution_count": 8,
   "metadata": {
    "colab": {
     "base_uri": "https://localhost:8080/"
    },
    "id": "rN2zvbyo93TO",
    "outputId": "07c93a22-f6a7-4a61-f04f-77dbe5d823aa"
   },
   "outputs": [
    {
     "name": "stdout",
     "output_type": "stream",
     "text": [
      "Epoch 1/500\n",
      "725/725 [==============================] - 92s 79ms/step - loss: 1.2718 - acc: 0.2021 - val_loss: 0.9903 - val_acc: 0.2026\n",
      "Epoch 2/500\n",
      "725/725 [==============================] - 56s 77ms/step - loss: 0.9454 - acc: 0.2032 - val_loss: 0.8875 - val_acc: 0.2030\n",
      "Epoch 3/500\n",
      "725/725 [==============================] - 56s 77ms/step - loss: 0.8589 - acc: 0.2033 - val_loss: 0.8104 - val_acc: 0.2033\n",
      "Epoch 4/500\n",
      "725/725 [==============================] - 56s 78ms/step - loss: 0.8139 - acc: 0.2038 - val_loss: 0.8135 - val_acc: 0.2034\n",
      "Epoch 5/500\n",
      "725/725 [==============================] - 56s 78ms/step - loss: 0.7828 - acc: 0.2037 - val_loss: 0.7377 - val_acc: 0.2035\n",
      "Epoch 6/500\n",
      "725/725 [==============================] - 56s 78ms/step - loss: 0.7524 - acc: 0.2037 - val_loss: 0.7144 - val_acc: 0.2033\n",
      "Epoch 7/500\n",
      "725/725 [==============================] - 56s 77ms/step - loss: 0.7343 - acc: 0.2041 - val_loss: 0.6958 - val_acc: 0.2035\n",
      "Epoch 8/500\n",
      "725/725 [==============================] - 56s 77ms/step - loss: 0.7039 - acc: 0.2040 - val_loss: 0.6771 - val_acc: 0.2035\n",
      "Epoch 9/500\n",
      "725/725 [==============================] - 56s 78ms/step - loss: 0.6891 - acc: 0.2039 - val_loss: 0.6616 - val_acc: 0.2035\n",
      "Epoch 10/500\n",
      "725/725 [==============================] - 56s 78ms/step - loss: 0.6747 - acc: 0.2041 - val_loss: 0.6511 - val_acc: 0.2038\n",
      "Epoch 11/500\n",
      "725/725 [==============================] - 56s 78ms/step - loss: 0.6602 - acc: 0.2043 - val_loss: 0.6576 - val_acc: 0.2038\n",
      "Epoch 12/500\n",
      "725/725 [==============================] - 56s 78ms/step - loss: 0.6534 - acc: 0.2040 - val_loss: 0.6394 - val_acc: 0.2038\n",
      "Epoch 13/500\n",
      "725/725 [==============================] - 57s 78ms/step - loss: 0.6434 - acc: 0.2039 - val_loss: 0.6430 - val_acc: 0.2038\n",
      "Epoch 14/500\n",
      "725/725 [==============================] - 57s 78ms/step - loss: 0.6354 - acc: 0.2043 - val_loss: 0.6246 - val_acc: 0.2036\n",
      "Epoch 15/500\n",
      "725/725 [==============================] - 56s 77ms/step - loss: 0.6282 - acc: 0.2044 - val_loss: 0.6306 - val_acc: 0.2035\n",
      "Epoch 16/500\n",
      "725/725 [==============================] - 55s 77ms/step - loss: 0.6192 - acc: 0.2044 - val_loss: 0.6046 - val_acc: 0.2038\n",
      "Epoch 17/500\n",
      "725/725 [==============================] - 56s 78ms/step - loss: 0.6116 - acc: 0.2043 - val_loss: 0.6011 - val_acc: 0.2035\n",
      "Epoch 18/500\n",
      "725/725 [==============================] - 56s 77ms/step - loss: 0.6040 - acc: 0.2043 - val_loss: 0.6169 - val_acc: 0.2039\n",
      "Epoch 19/500\n",
      "725/725 [==============================] - 56s 77ms/step - loss: 0.5981 - acc: 0.2047 - val_loss: 0.6146 - val_acc: 0.2041\n",
      "Epoch 20/500\n",
      "725/725 [==============================] - 56s 77ms/step - loss: 0.5912 - acc: 0.2043 - val_loss: 0.5965 - val_acc: 0.2038\n",
      "Epoch 21/500\n",
      "725/725 [==============================] - 56s 78ms/step - loss: 0.5817 - acc: 0.2043 - val_loss: 0.5848 - val_acc: 0.2038\n",
      "Epoch 22/500\n",
      "725/725 [==============================] - 56s 78ms/step - loss: 0.5792 - acc: 0.2045 - val_loss: 0.5942 - val_acc: 0.2040\n",
      "Epoch 23/500\n",
      "725/725 [==============================] - 56s 78ms/step - loss: 0.5708 - acc: 0.2044 - val_loss: 0.5841 - val_acc: 0.2038\n",
      "Epoch 24/500\n",
      "725/725 [==============================] - 56s 77ms/step - loss: 0.5654 - acc: 0.2045 - val_loss: 0.5780 - val_acc: 0.2040\n",
      "Epoch 25/500\n",
      "725/725 [==============================] - 56s 77ms/step - loss: 0.5614 - acc: 0.2046 - val_loss: 0.5724 - val_acc: 0.2039\n",
      "Epoch 26/500\n",
      "725/725 [==============================] - 56s 78ms/step - loss: 0.5558 - acc: 0.2045 - val_loss: 0.5819 - val_acc: 0.2041\n",
      "Epoch 27/500\n",
      "725/725 [==============================] - 56s 78ms/step - loss: 0.5510 - acc: 0.2046 - val_loss: 0.5627 - val_acc: 0.2042\n",
      "Epoch 28/500\n",
      "725/725 [==============================] - 56s 77ms/step - loss: 0.5489 - acc: 0.2043 - val_loss: 0.5574 - val_acc: 0.2040\n",
      "Epoch 29/500\n",
      "725/725 [==============================] - 56s 77ms/step - loss: 0.5425 - acc: 0.2045 - val_loss: 0.5542 - val_acc: 0.2040\n",
      "Epoch 30/500\n",
      "725/725 [==============================] - 56s 77ms/step - loss: 0.5399 - acc: 0.2047 - val_loss: 0.5479 - val_acc: 0.2042\n",
      "Epoch 31/500\n",
      "725/725 [==============================] - 56s 77ms/step - loss: 0.5355 - acc: 0.2045 - val_loss: 0.5484 - val_acc: 0.2040\n",
      "Epoch 32/500\n",
      "725/725 [==============================] - 56s 77ms/step - loss: 0.5280 - acc: 0.2045 - val_loss: 0.5654 - val_acc: 0.2042\n",
      "Epoch 33/500\n",
      "725/725 [==============================] - 56s 77ms/step - loss: 0.5272 - acc: 0.2046 - val_loss: 0.5375 - val_acc: 0.2041\n",
      "Epoch 34/500\n",
      "725/725 [==============================] - 56s 77ms/step - loss: 0.5217 - acc: 0.2046 - val_loss: 0.5527 - val_acc: 0.2039\n",
      "Epoch 35/500\n",
      "725/725 [==============================] - 56s 77ms/step - loss: 0.5181 - acc: 0.2046 - val_loss: 0.5381 - val_acc: 0.2041\n",
      "Epoch 36/500\n",
      "725/725 [==============================] - 56s 77ms/step - loss: 0.5142 - acc: 0.2048 - val_loss: 0.5344 - val_acc: 0.2041\n",
      "Epoch 37/500\n",
      "725/725 [==============================] - 56s 77ms/step - loss: 0.5112 - acc: 0.2046 - val_loss: 0.5295 - val_acc: 0.2038\n",
      "Epoch 38/500\n",
      "725/725 [==============================] - 55s 76ms/step - loss: 0.5073 - acc: 0.2046 - val_loss: 0.5430 - val_acc: 0.2041\n",
      "Epoch 39/500\n",
      "725/725 [==============================] - 55s 76ms/step - loss: 0.5021 - acc: 0.2046 - val_loss: 0.5352 - val_acc: 0.2040\n",
      "Epoch 40/500\n",
      "725/725 [==============================] - 55s 76ms/step - loss: 0.5019 - acc: 0.2047 - val_loss: 0.5264 - val_acc: 0.2042\n",
      "Epoch 41/500\n",
      "725/725 [==============================] - 56s 77ms/step - loss: 0.4966 - acc: 0.2045 - val_loss: 0.5336 - val_acc: 0.2042\n",
      "Epoch 42/500\n",
      "725/725 [==============================] - 56s 77ms/step - loss: 0.4954 - acc: 0.2048 - val_loss: 0.5271 - val_acc: 0.2040\n",
      "Epoch 43/500\n",
      "725/725 [==============================] - 56s 77ms/step - loss: 0.4894 - acc: 0.2044 - val_loss: 0.5297 - val_acc: 0.2040\n",
      "Epoch 44/500\n",
      "725/725 [==============================] - 56s 77ms/step - loss: 0.4862 - acc: 0.2049 - val_loss: 0.5401 - val_acc: 0.2041\n",
      "Epoch 45/500\n",
      "725/725 [==============================] - 56s 77ms/step - loss: 0.4843 - acc: 0.2048 - val_loss: 0.5258 - val_acc: 0.2043\n",
      "Epoch 46/500\n",
      "725/725 [==============================] - 56s 77ms/step - loss: 0.4831 - acc: 0.2048 - val_loss: 0.5223 - val_acc: 0.2043\n",
      "Epoch 47/500\n",
      "725/725 [==============================] - 56s 77ms/step - loss: 0.4792 - acc: 0.2047 - val_loss: 0.5252 - val_acc: 0.2041\n",
      "Epoch 48/500\n",
      "725/725 [==============================] - 56s 77ms/step - loss: 0.4745 - acc: 0.2051 - val_loss: 0.5421 - val_acc: 0.2040\n",
      "Epoch 49/500\n",
      "725/725 [==============================] - 56s 77ms/step - loss: 0.4736 - acc: 0.2049 - val_loss: 0.5271 - val_acc: 0.2040\n",
      "Epoch 50/500\n",
      "725/725 [==============================] - 56s 77ms/step - loss: 0.4702 - acc: 0.2045 - val_loss: 0.5209 - val_acc: 0.2042\n",
      "Epoch 51/500\n",
      "725/725 [==============================] - 56s 77ms/step - loss: 0.4673 - acc: 0.2049 - val_loss: 0.5392 - val_acc: 0.2043\n",
      "Epoch 52/500\n",
      "725/725 [==============================] - 56s 77ms/step - loss: 0.4635 - acc: 0.2048 - val_loss: 0.5197 - val_acc: 0.2042\n",
      "Epoch 53/500\n",
      "725/725 [==============================] - 56s 77ms/step - loss: 0.4611 - acc: 0.2044 - val_loss: 0.5370 - val_acc: 0.2040\n",
      "Epoch 54/500\n",
      "725/725 [==============================] - 56s 77ms/step - loss: 0.4590 - acc: 0.2047 - val_loss: 0.5054 - val_acc: 0.2042\n",
      "Epoch 55/500\n",
      "725/725 [==============================] - 56s 77ms/step - loss: 0.4571 - acc: 0.2048 - val_loss: 0.5217 - val_acc: 0.2040\n",
      "Epoch 56/500\n",
      "725/725 [==============================] - 56s 77ms/step - loss: 0.4514 - acc: 0.2050 - val_loss: 0.5070 - val_acc: 0.2042\n",
      "Epoch 57/500\n",
      "725/725 [==============================] - 56s 77ms/step - loss: 0.4522 - acc: 0.2049 - val_loss: 0.5129 - val_acc: 0.2042\n",
      "Epoch 58/500\n",
      "725/725 [==============================] - 56s 77ms/step - loss: 0.4492 - acc: 0.2049 - val_loss: 0.5111 - val_acc: 0.2042\n",
      "Epoch 59/500\n",
      "725/725 [==============================] - 56s 77ms/step - loss: 0.4462 - acc: 0.2046 - val_loss: 0.5066 - val_acc: 0.2040\n"
     ]
    }
   ],
   "source": [
    "earlystopping = EarlyStopping(monitor =\"val_loss\", \n",
    "                                        mode =\"min\", patience = 5, \n",
    "                                        restore_best_weights = True)\n",
    "  \n",
    "history = lstm_model.fit(x_train_unsqueeze, y_train, batch_size = 128, \n",
    "                    epochs = 500, validation_data =(x_val_unsqueeze, y_val), \n",
    "                    callbacks =[earlystopping])"
   ]
  },
  {
   "cell_type": "code",
   "execution_count": 10,
   "metadata": {
    "id": "DSqB1YgtLi2m"
   },
   "outputs": [],
   "source": [
    "import matplotlib.pyplot as plt"
   ]
  },
  {
   "cell_type": "markdown",
   "metadata": {
    "id": "w0tdYwxnMDn8"
   },
   "source": [
    "### Summarize history for accuracy"
   ]
  },
  {
   "cell_type": "code",
   "execution_count": 11,
   "metadata": {
    "colab": {
     "base_uri": "https://localhost:8080/",
     "height": 294
    },
    "id": "ru-iY7kYLjYy",
    "outputId": "bf5a1f0d-7a2e-4879-f5a4-d9c4d1cfee0f"
   },
   "outputs": [
    {
     "data": {
      "image/png": "[encoded data removed]",
      "text/plain": [
       "<Figure size 432x288 with 1 Axes>"
      ]
     },
     "metadata": {
      "needs_background": "light"
     },
     "output_type": "display_data"
    }
   ],
   "source": [
    "# summarize history for accuracy\n",
    "plt.plot(history.history['acc'])\n",
    "plt.plot(history.history['val_acc'])\n",
    "plt.title('model accuracy')\n",
    "plt.ylabel('accuracy')\n",
    "plt.xlabel('epoch')\n",
    "plt.legend(['train', 'test'], loc='upper left')\n",
    "plt.show()"
   ]
  },
  {
   "cell_type": "markdown",
   "metadata": {
    "id": "WStndLQYMJwV"
   },
   "source": [
    "### Summarize history for loss"
   ]
  },
  {
   "cell_type": "code",
   "execution_count": 12,
   "metadata": {
    "colab": {
     "base_uri": "https://localhost:8080/",
     "height": 294
    },
    "id": "3tnn2W5xLl78",
    "outputId": "b207626f-ca38-4665-ec65-fc217006548a"
   },
   "outputs": [
    {
     "data": {
      "image/png": "[encoded data removed]",
      "text/plain": [
       "<Figure size 432x288 with 1 Axes>"
      ]
     },
     "metadata": {
      "needs_background": "light"
     },
     "output_type": "display_data"
    }
   ],
   "source": [
    "# summarize history for loss\n",
    "plt.plot(history.history['loss'])\n",
    "plt.plot(history.history['val_loss'])\n",
    "plt.title('model loss')\n",
    "plt.ylabel('loss')\n",
    "plt.xlabel('epoch')\n",
    "plt.legend(['train', 'test'], loc='upper left')\n",
    "plt.show()\n"
   ]
  },
  {
   "cell_type": "markdown",
   "metadata": {
    "id": "cfWmq85EMQU8"
   },
   "source": [
    "### Saving Model"
   ]
  },
  {
   "cell_type": "code",
   "execution_count": 13,
   "metadata": {
    "id": "UgxMBLPY95XH"
   },
   "outputs": [],
   "source": [
    "lstm_model.save('/content/drive/MyDrive/Iot/lstm.h5')"
   ]
  },
  {
   "cell_type": "markdown",
   "metadata": {
    "id": "b2U1LhhyMtO1"
   },
   "source": [
    "## Testing"
   ]
  },
  {
   "cell_type": "markdown",
   "metadata": {
    "id": "vYkqYz2aMwBX"
   },
   "source": [
    "### Testing on Training Data"
   ]
  },
  {
   "cell_type": "code",
   "execution_count": 14,
   "metadata": {
    "id": "RKxA7SNrLogK"
   },
   "outputs": [],
   "source": [
    "y_pred_train = lstm_model.predict(x_train_unsqueeze)\n",
    "y_pred_train = y_pred_train.argmax(axis=-1).ravel().tolist()"
   ]
  },
  {
   "cell_type": "code",
   "execution_count": 15,
   "metadata": {
    "colab": {
     "base_uri": "https://localhost:8080/"
    },
    "id": "YDI5Z_XIMztK",
    "outputId": "bff74168-2a4f-4419-a168-42ff58453ba5"
   },
   "outputs": [
    {
     "name": "stdout",
     "output_type": "stream",
     "text": [
      "              precision    recall  f1-score   support\n",
      "\n",
      "           0       0.90      0.89      0.90     18548\n",
      "           1       0.73      0.76      0.75     18547\n",
      "           2       0.82      0.78      0.80     18547\n",
      "           3       0.93      0.94      0.94     18547\n",
      "           4       0.80      0.80      0.80     18547\n",
      "\n",
      "    accuracy                           0.84     92736\n",
      "   macro avg       0.84      0.84      0.84     92736\n",
      "weighted avg       0.84      0.84      0.84     92736\n",
      "\n"
     ]
    }
   ],
   "source": [
    "report = classification_report(y_train, y_pred_train)\n",
    "print(report)"
   ]
  },
  {
   "cell_type": "markdown",
   "metadata": {
    "id": "qmV2fEzvM305"
   },
   "source": [
    "### Testing on Testing Data"
   ]
  },
  {
   "cell_type": "code",
   "execution_count": 16,
   "metadata": {
    "id": "2OaBpddHM1qW"
   },
   "outputs": [],
   "source": [
    "x_test_unsqueeze=x_test.reshape(x_test.shape[0],1,3000,1)"
   ]
  },
  {
   "cell_type": "code",
   "execution_count": 17,
   "metadata": {
    "id": "I9dWx3UiM5sz"
   },
   "outputs": [],
   "source": [
    "y_pred_test = lstm_model.predict(x_test_unsqueeze)\n",
    "y_pred_test = y_pred_test.argmax(axis=-1).ravel().tolist()"
   ]
  },
  {
   "cell_type": "code",
   "execution_count": 18,
   "metadata": {
    "colab": {
     "base_uri": "https://localhost:8080/"
    },
    "id": "EMuScRgFM88L",
    "outputId": "8ddad19b-7204-4f48-ab02-1f854d7ed742"
   },
   "outputs": [
    {
     "name": "stdout",
     "output_type": "stream",
     "text": [
      "              precision    recall  f1-score   support\n",
      "\n",
      "           0       0.87      0.87      0.87      2289\n",
      "           1       0.67      0.70      0.68      2290\n",
      "           2       0.75      0.73      0.74      2290\n",
      "           3       0.91      0.92      0.92      2290\n",
      "           4       0.75      0.73      0.74      2290\n",
      "\n",
      "    accuracy                           0.79     11449\n",
      "   macro avg       0.79      0.79      0.79     11449\n",
      "weighted avg       0.79      0.79      0.79     11449\n",
      "\n"
     ]
    }
   ],
   "source": [
    "report = classification_report(y_test, y_pred_test)\n",
    "print(report)"
   ]
  }
 ],
 "metadata": {
  "accelerator": "GPU",
  "colab": {
   "collapsed_sections": [],
   "name": "Training LSTM.ipynb",
   "provenance": [],
   "toc_visible": true
  },
  "kernelspec": {
   "display_name": "Python 3",
   "language": "python",
   "name": "python3"
  },
  "language_info": {
   "codemirror_mode": {
    "name": "ipython",
    "version": 3
   },
   "file_extension": ".py",
   "mimetype": "text/x-python",
   "name": "python",
   "nbconvert_exporter": "python",
   "pygments_lexer": "ipython3",
   "version": "3.8.8"
  }
 },
 "nbformat": 4,
 "nbformat_minor": 1
}
