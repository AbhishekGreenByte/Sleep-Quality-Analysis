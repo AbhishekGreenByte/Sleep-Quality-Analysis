{
 "cells": [
  {
   "cell_type": "code",
   "execution_count": 1,
   "metadata": {
    "colab": {
     "base_uri": "https://localhost:8080/"
    },
    "executionInfo": {
     "elapsed": 61952,
     "status": "ok",
     "timestamp": 1636981106961,
     "user": {
      "displayName": "Abhishek Sahu",
      "photoUrl": "https://lh3.googleusercontent.com/a-/AOh14GhVjzrKNUGF7LEWW_biy03B1FRMMb0Qgz1gWpDf1A=s64",
      "userId": "11629706999405842611"
     },
     "user_tz": -330
    },
    "id": "TcgYXw2Xq8xh",
    "outputId": "4145f0de-7a8d-4ddf-e9d9-0b5e5d445a1c"
   },
   "outputs": [
    {
     "name": "stdout",
     "output_type": "stream",
     "text": [
      "Mounted at /content/drive\n"
     ]
    }
   ],
   "source": [
    "from google.colab import drive\n",
    "drive.mount('/content/drive')"
   ]
  },
  {
   "cell_type": "code",
   "execution_count": 2,
   "metadata": {
    "executionInfo": {
     "elapsed": 16,
     "status": "ok",
     "timestamp": 1636981108218,
     "user": {
      "displayName": "Abhishek Sahu",
      "photoUrl": "https://lh3.googleusercontent.com/a-/AOh14GhVjzrKNUGF7LEWW_biy03B1FRMMb0Qgz1gWpDf1A=s64",
      "userId": "11629706999405842611"
     },
     "user_tz": -330
    },
    "id": "pXaQZuf8rFNk"
   },
   "outputs": [],
   "source": [
    "import numpy as np\n",
    "from numpy import load"
   ]
  },
  {
   "cell_type": "code",
   "execution_count": 12,
   "metadata": {
    "executionInfo": {
     "elapsed": 16394,
     "status": "ok",
     "timestamp": 1636985807241,
     "user": {
      "displayName": "Abhishek Sahu",
      "photoUrl": "https://lh3.googleusercontent.com/a-/AOh14GhVjzrKNUGF7LEWW_biy03B1FRMMb0Qgz1gWpDf1A=s64",
      "userId": "11629706999405842611"
     },
     "user_tz": -330
    },
    "id": "shDh2D8AviTK"
   },
   "outputs": [],
   "source": [
    "X = load('/content/drive/MyDrive/Iot/Data/X.npy')\n",
    "y = load('/content/drive/MyDrive/Iot/Data/y.npy')"
   ]
  },
  {
   "cell_type": "code",
   "execution_count": 13,
   "metadata": {
    "colab": {
     "base_uri": "https://localhost:8080/"
    },
    "executionInfo": {
     "elapsed": 36,
     "status": "ok",
     "timestamp": 1636985807243,
     "user": {
      "displayName": "Abhishek Sahu",
      "photoUrl": "https://lh3.googleusercontent.com/a-/AOh14GhVjzrKNUGF7LEWW_biy03B1FRMMb0Qgz1gWpDf1A=s64",
      "userId": "11629706999405842611"
     },
     "user_tz": -330
    },
    "id": "HzJK12hz89n7",
    "outputId": "7d99b701-a641-47aa-dabd-5e58dd53c2a4"
   },
   "outputs": [
    {
     "data": {
      "text/plain": [
       "Counter({0: 13058, 1: 4325, 2: 22898, 3: 6030, 4: 9678})"
      ]
     },
     "execution_count": 13,
     "metadata": {},
     "output_type": "execute_result"
    }
   ],
   "source": [
    "import collections\n",
    "collections.Counter(y)"
   ]
  },
  {
   "cell_type": "code",
   "execution_count": 7,
   "metadata": {
    "executionInfo": {
     "elapsed": 626,
     "status": "ok",
     "timestamp": 1636981307078,
     "user": {
      "displayName": "Abhishek Sahu",
      "photoUrl": "https://lh3.googleusercontent.com/a-/AOh14GhVjzrKNUGF7LEWW_biy03B1FRMMb0Qgz1gWpDf1A=s64",
      "userId": "11629706999405842611"
     },
     "user_tz": -330
    },
    "id": "xU-kwZQnrq6m"
   },
   "outputs": [],
   "source": [
    "X=np.squeeze(X)"
   ]
  },
  {
   "cell_type": "code",
   "execution_count": 8,
   "metadata": {
    "colab": {
     "base_uri": "https://localhost:8080/"
    },
    "executionInfo": {
     "elapsed": 2152765,
     "status": "ok",
     "timestamp": 1636983461756,
     "user": {
      "displayName": "Abhishek Sahu",
      "photoUrl": "https://lh3.googleusercontent.com/a-/AOh14GhVjzrKNUGF7LEWW_biy03B1FRMMb0Qgz1gWpDf1A=s64",
      "userId": "11629706999405842611"
     },
     "user_tz": -330
    },
    "id": "c1QiqE-Hr21N",
    "outputId": "d2683718-36db-48b6-f323-75d626894133"
   },
   "outputs": [
    {
     "name": "stderr",
     "output_type": "stream",
     "text": [
      "/usr/local/lib/python3.7/dist-packages/sklearn/externals/six.py:31: FutureWarning: The module is deprecated in version 0.21 and will be removed in version 0.23 since we've dropped support for Python 2.7. Please rely on the official version of six (https://pypi.org/project/six/).\n",
      "  \"(https://pypi.org/project/six/).\", FutureWarning)\n",
      "/usr/local/lib/python3.7/dist-packages/sklearn/utils/deprecation.py:144: FutureWarning: The sklearn.neighbors.base module is  deprecated in version 0.22 and will be removed in version 0.24. The corresponding classes / functions should instead be imported from sklearn.neighbors. Anything that cannot be imported from sklearn.neighbors is now part of the private API.\n",
      "  warnings.warn(message, FutureWarning)\n",
      "/usr/local/lib/python3.7/dist-packages/sklearn/utils/deprecation.py:87: FutureWarning: Function safe_indexing is deprecated; safe_indexing is deprecated in version 0.22 and will be removed in version 0.24.\n",
      "  warnings.warn(msg, category=FutureWarning)\n",
      "/usr/local/lib/python3.7/dist-packages/sklearn/utils/deprecation.py:87: FutureWarning: Function safe_indexing is deprecated; safe_indexing is deprecated in version 0.22 and will be removed in version 0.24.\n",
      "  warnings.warn(msg, category=FutureWarning)\n",
      "/usr/local/lib/python3.7/dist-packages/sklearn/utils/deprecation.py:87: FutureWarning: Function safe_indexing is deprecated; safe_indexing is deprecated in version 0.22 and will be removed in version 0.24.\n",
      "  warnings.warn(msg, category=FutureWarning)\n",
      "/usr/local/lib/python3.7/dist-packages/sklearn/utils/deprecation.py:87: FutureWarning: Function safe_indexing is deprecated; safe_indexing is deprecated in version 0.22 and will be removed in version 0.24.\n",
      "  warnings.warn(msg, category=FutureWarning)\n"
     ]
    }
   ],
   "source": [
    "import imblearn\n",
    "from imblearn.over_sampling import SMOTE \n",
    "oversample = SMOTE()\n",
    "X,y  = oversample.fit_resample(X, y)"
   ]
  },
  {
   "cell_type": "code",
   "execution_count": 11,
   "metadata": {
    "colab": {
     "base_uri": "https://localhost:8080/"
    },
    "executionInfo": {
     "elapsed": 361,
     "status": "ok",
     "timestamp": 1636985784217,
     "user": {
      "displayName": "Abhishek Sahu",
      "photoUrl": "https://lh3.googleusercontent.com/a-/AOh14GhVjzrKNUGF7LEWW_biy03B1FRMMb0Qgz1gWpDf1A=s64",
      "userId": "11629706999405842611"
     },
     "user_tz": -330
    },
    "id": "td2iOdqI9Imb",
    "outputId": "34ba7175-d1de-4825-e305-268bb388fb2f"
   },
   "outputs": [
    {
     "data": {
      "text/plain": [
       "Counter({0: 22898, 1: 22898, 2: 22898, 3: 22898, 4: 22898})"
      ]
     },
     "execution_count": 11,
     "metadata": {},
     "output_type": "execute_result"
    }
   ],
   "source": [
    "import collections\n",
    "collections.Counter(y)"
   ]
  },
  {
   "cell_type": "code",
   "execution_count": 9,
   "metadata": {
    "executionInfo": {
     "elapsed": 4929,
     "status": "ok",
     "timestamp": 1636985548593,
     "user": {
      "displayName": "Abhishek Sahu",
      "photoUrl": "https://lh3.googleusercontent.com/a-/AOh14GhVjzrKNUGF7LEWW_biy03B1FRMMb0Qgz1gWpDf1A=s64",
      "userId": "11629706999405842611"
     },
     "user_tz": -330
    },
    "id": "lNJ5OSdxrrTT"
   },
   "outputs": [],
   "source": [
    "from sklearn.model_selection import train_test_split\n",
    "x_train,x_test,y_train,y_test=train_test_split(X,y,test_size=0.1,stratify=y)\n",
    "x_train,x_val,y_train,y_val=train_test_split(x_train,y_train,test_size=0.1,stratify=y_train)"
   ]
  },
  {
   "cell_type": "code",
   "execution_count": 10,
   "metadata": {
    "executionInfo": {
     "elapsed": 37465,
     "status": "ok",
     "timestamp": 1636985748123,
     "user": {
      "displayName": "Abhishek Sahu",
      "photoUrl": "https://lh3.googleusercontent.com/a-/AOh14GhVjzrKNUGF7LEWW_biy03B1FRMMb0Qgz1gWpDf1A=s64",
      "userId": "11629706999405842611"
     },
     "user_tz": -330
    },
    "id": "3sT-d2oLrtbi"
   },
   "outputs": [],
   "source": [
    "from numpy import asarray\n",
    "from numpy import save\n",
    "\n",
    "save('/content/drive/MyDrive/Iot/Data/x_train.npy', x_train)\n",
    "save('/content/drive/MyDrive/Iot/Data/y_train.npy', y_train)\n",
    "save('/content/drive/MyDrive/Iot/Data/x_val.npy', x_val)\n",
    "save('/content/drive/MyDrive/Iot/Data/y_val.npy', y_val)\n",
    "save('/content/drive/MyDrive/Iot/Data/x_test.npy', x_test)\n",
    "save('/content/drive/MyDrive/Iot/Data/y_test.npy', y_test)"
   ]
  }
 ],
 "metadata": {
  "colab": {
   "authorship_tag": "ABX9TyMfkc5S1M0Urh6aQM5P/AJj",
   "name": "Class Balancing.ipynb",
   "provenance": []
  },
  "kernelspec": {
   "display_name": "Python 3",
   "language": "python",
   "name": "python3"
  },
  "language_info": {
   "codemirror_mode": {
    "name": "ipython",
    "version": 3
   },
   "file_extension": ".py",
   "mimetype": "text/x-python",
   "name": "python",
   "nbconvert_exporter": "python",
   "pygments_lexer": "ipython3",
   "version": "3.8.8"
  }
 },
 "nbformat": 4,
 "nbformat_minor": 1
}
