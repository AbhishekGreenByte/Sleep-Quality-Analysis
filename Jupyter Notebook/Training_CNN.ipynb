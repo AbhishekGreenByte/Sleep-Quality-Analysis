{
 "cells": [
  {
   "cell_type": "markdown",
   "metadata": {
    "id": "D5Z8yZADCscd"
   },
   "source": [
    "# Sleep Pattern Prediction - Training CNN"
   ]
  },
  {
   "cell_type": "markdown",
   "metadata": {
    "id": "BHOXv5wlCv81"
   },
   "source": [
    "##  Loading Libraries"
   ]
  },
  {
   "cell_type": "code",
   "execution_count": 1,
   "metadata": {
    "id": "gbvI5EsoCbi_"
   },
   "outputs": [],
   "source": [
    "import numpy as np\n",
    "from sklearn.metrics import classification_report\n",
    "#from utils import gen, chunker, WINDOW_SIZE, rescale_array\n",
    "from keras.callbacks import ModelCheckpoint, EarlyStopping, ReduceLROnPlateau\n",
    "from sklearn.metrics import f1_score, accuracy_score, classification_report\n",
    "from glob import glob\n",
    "import os\n",
    "from sklearn.model_selection import train_test_split\n",
    "from tqdm import tqdm\n",
    "import tensorflow as tf\n",
    "from tensorflow.keras import optimizers, losses, activations, models\n",
    "#tf.keras.optimizers.Adam(learning_rate)\n",
    "from keras.layers import Dense, Input, Dropout, Convolution1D, MaxPool1D, GlobalMaxPool1D, GlobalAveragePooling1D, concatenate, SpatialDropout1D, TimeDistributed, Bidirectional, LSTM\n",
    "    \n"
   ]
  },
  {
   "cell_type": "markdown",
   "metadata": {
    "id": "9PzzaQ9nVf8u"
   },
   "source": [
    "## Loading Dataset"
   ]
  },
  {
   "cell_type": "code",
   "execution_count": 2,
   "metadata": {
    "colab": {
     "base_uri": "https://localhost:8080/"
    },
    "id": "QiMa68FFnSR0",
    "outputId": "0d090ced-e61e-4a22-8b46-8e781abfa5c7"
   },
   "outputs": [
    {
     "name": "stdout",
     "output_type": "stream",
     "text": [
      "Drive already mounted at /content/drive; to attempt to forcibly remount, call drive.mount(\"/content/drive\", force_remount=True).\n"
     ]
    }
   ],
   "source": [
    "from google.colab import drive\n",
    "drive.mount('/content/drive')"
   ]
  },
  {
   "cell_type": "code",
   "execution_count": 3,
   "metadata": {
    "id": "Slvz7LEZneOK"
   },
   "outputs": [],
   "source": [
    "import numpy as np\n",
    "from numpy import load"
   ]
  },
  {
   "cell_type": "code",
   "execution_count": 4,
   "metadata": {
    "id": "gJCNgG-wnepj"
   },
   "outputs": [],
   "source": [
    "x_train = load('/content/drive/MyDrive/Iot/Data/x_train.npy')\n",
    "y_train = load('/content/drive/MyDrive/Iot/Data/y_train.npy')\n",
    "x_val = load('/content/drive/MyDrive/Iot/Data/x_val.npy')\n",
    "y_val = load('/content/drive/MyDrive/Iot/Data/y_val.npy')\n",
    "x_test = load('/content/drive/MyDrive/Iot/Data/x_test.npy')\n",
    "y_test = load('/content/drive/MyDrive/Iot/Data/y_test.npy')"
   ]
  },
  {
   "cell_type": "markdown",
   "metadata": {
    "id": "0fxxfdGinoNS"
   },
   "source": [
    "## CNN Model"
   ]
  },
  {
   "cell_type": "code",
   "execution_count": 5,
   "metadata": {
    "id": "vlk4oaSvnhZc"
   },
   "outputs": [],
   "source": [
    "def get_base_model():\n",
    "    inp = Input(shape=(3000, 1))\n",
    "    img_1 = Convolution1D(16, kernel_size=10, activation=activations.relu, padding=\"valid\")(inp)\n",
    "    img_1 = Convolution1D(16, kernel_size=10, activation=activations.relu, padding=\"valid\")(img_1)\n",
    "    img_1 = MaxPool1D(pool_size=3)(img_1)\n",
    "    img_1 = SpatialDropout1D(rate=0.01)(img_1)\n",
    "    img_1 = Convolution1D(32, kernel_size=5, activation=activations.relu, padding=\"valid\")(img_1)\n",
    "    img_1 = Convolution1D(32, kernel_size=5, activation=activations.relu, padding=\"valid\")(img_1)\n",
    "    img_1 = MaxPool1D(pool_size=2)(img_1)\n",
    "    img_1 = SpatialDropout1D(rate=0.01)(img_1)\n",
    "    img_1 = Convolution1D(128, kernel_size=3, activation=activations.relu, padding=\"valid\")(img_1)\n",
    "    img_1 = Convolution1D(128, kernel_size=3, activation=activations.relu, padding=\"valid\")(img_1)\n",
    "    img_1 = GlobalMaxPool1D()(img_1)\n",
    "    img_1 = Dropout(rate=0.01)(img_1)\n",
    "\n",
    "    dense_1 = Dropout(0.01)(Dense(64, activation = 'sigmoid', name=\"dense_1\")(img_1))\n",
    "\n",
    "    base_model = models.Model(inputs=inp, outputs=dense_1)\n",
    "    opt = optimizers.Adam(0.001)\n",
    "\n",
    "    base_model.compile(optimizer=opt, loss=losses.sparse_categorical_crossentropy, metrics=['acc'])\n",
    "    model.summary()\n",
    "    return base_model\n",
    "\n",
    "def get_model_cnn():\n",
    "    nclass = 5\n",
    "\n",
    "    seq_input = Input(shape=(None,3000,1))\n",
    "    base_model = get_base_model()\n",
    "    # for layer in base_model.layers:\n",
    "    #     layer.trainable = False\n",
    "    encoded_sequence = TimeDistributed(base_model)(seq_input)\n",
    "    #encoded_sequence = SpatialDropout1D(rate=0.01)(Convolution1D(256,\n",
    "                                                               #kernel_size=6,\n",
    "                                                               #activation=\"relu\",\n",
    "                                                               #padding=\"same\")(encoded_sequence))\n",
    "    encoded_sequence = Dropout(rate=0.05)(Convolution1D(256,\n",
    "                                                               kernel_size=6,\n",
    "                                                               activation=\"relu\",\n",
    "                                                               padding=\"same\")(encoded_sequence))\n",
    "\n",
    "    #out = TimeDistributed(Dense(nclass, activation=\"softmax\"))(encoded_sequence)\n",
    "    out = Convolution1D(nclass, kernel_size=3, activation=\"sigmoid\", padding=\"same\")(encoded_sequence)\n",
    "\n",
    "    model = models.Model(seq_input, out)\n",
    "\n",
    "    model.compile(optimizers.Adam(0.001), losses.sparse_categorical_crossentropy, metrics=['acc'])\n",
    "    model.summary()\n",
    "\n",
    "    return model"
   ]
  },
  {
   "cell_type": "markdown",
   "metadata": {
    "id": "Gxl-4WKeKL6m"
   },
   "source": [
    "## Training"
   ]
  },
  {
   "cell_type": "code",
   "execution_count": 10,
   "metadata": {
    "id": "JpHX7WxlpXqq"
   },
   "outputs": [],
   "source": [
    "x_train_unsqueeze=x_train.reshape(x_train.shape[0],1,3000,1)\n",
    "x_val_unsqueeze=x_val.reshape(x_val.shape[0],1,3000,1)"
   ]
  },
  {
   "cell_type": "code",
   "execution_count": 6,
   "metadata": {
    "colab": {
     "base_uri": "https://localhost:8080/"
    },
    "id": "OMxqHuMRnrON",
    "outputId": "0229ec69-9c9d-4b16-d6dc-83160e2c7060"
   },
   "outputs": [
    {
     "name": "stdout",
     "output_type": "stream",
     "text": [
      "Model: \"model_1\"\n",
      "_________________________________________________________________\n",
      " Layer (type)                Output Shape              Param #   \n",
      "=================================================================\n",
      " input_1 (InputLayer)        [(None, None, 3000, 1)]   0         \n",
      "                                                                 \n",
      " time_distributed (TimeDistr  (None, None, 64)         80448     \n",
      " ibuted)                                                         \n",
      "                                                                 \n",
      " conv1d_6 (Conv1D)           (None, None, 256)         98560     \n",
      "                                                                 \n",
      " dropout_2 (Dropout)         (None, None, 256)         0         \n",
      "                                                                 \n",
      " conv1d_7 (Conv1D)           (None, None, 5)           3845      \n",
      "                                                                 \n",
      "=================================================================\n",
      "Total params: 182,853\n",
      "Trainable params: 182,853\n",
      "Non-trainable params: 0\n",
      "_________________________________________________________________\n"
     ]
    }
   ],
   "source": [
    "cnn_model=get_model_cnn()"
   ]
  },
  {
   "cell_type": "code",
   "execution_count": 11,
   "metadata": {
    "colab": {
     "base_uri": "https://localhost:8080/"
    },
    "id": "Yq2AwbDFn0b0",
    "outputId": "d5f53fed-b921-4b44-b26b-b9b854a1ac0f"
   },
   "outputs": [
    {
     "name": "stdout",
     "output_type": "stream",
     "text": [
      "Epoch 1/500\n",
      "725/725 [==============================] - 85s 75ms/step - loss: 1.2529 - acc: 0.2015 - val_loss: 1.0955 - val_acc: 0.2022\n",
      "Epoch 2/500\n",
      "725/725 [==============================] - 53s 73ms/step - loss: 1.0004 - acc: 0.2031 - val_loss: 0.9310 - val_acc: 0.2030\n",
      "Epoch 3/500\n",
      "725/725 [==============================] - 53s 73ms/step - loss: 0.9078 - acc: 0.2037 - val_loss: 0.8606 - val_acc: 0.2033\n",
      "Epoch 4/500\n",
      "725/725 [==============================] - 53s 73ms/step - loss: 0.8564 - acc: 0.2038 - val_loss: 0.8695 - val_acc: 0.2031\n",
      "Epoch 5/500\n",
      "725/725 [==============================] - 53s 74ms/step - loss: 0.8214 - acc: 0.2037 - val_loss: 0.7899 - val_acc: 0.2032\n",
      "Epoch 6/500\n",
      "725/725 [==============================] - 53s 74ms/step - loss: 0.7901 - acc: 0.2036 - val_loss: 0.7564 - val_acc: 0.2036\n",
      "Epoch 7/500\n",
      "725/725 [==============================] - 53s 74ms/step - loss: 0.7588 - acc: 0.2036 - val_loss: 0.7861 - val_acc: 0.2033\n",
      "Epoch 8/500\n",
      "725/725 [==============================] - 53s 74ms/step - loss: 0.7337 - acc: 0.2037 - val_loss: 0.7049 - val_acc: 0.2037\n",
      "Epoch 9/500\n",
      "725/725 [==============================] - 54s 74ms/step - loss: 0.7140 - acc: 0.2040 - val_loss: 0.7320 - val_acc: 0.2034\n",
      "Epoch 10/500\n",
      "725/725 [==============================] - 53s 73ms/step - loss: 0.6999 - acc: 0.2044 - val_loss: 0.6760 - val_acc: 0.2037\n",
      "Epoch 11/500\n",
      "725/725 [==============================] - 53s 73ms/step - loss: 0.6836 - acc: 0.2039 - val_loss: 0.6633 - val_acc: 0.2035\n",
      "Epoch 12/500\n",
      "725/725 [==============================] - 53s 73ms/step - loss: 0.6736 - acc: 0.2040 - val_loss: 0.6658 - val_acc: 0.2037\n",
      "Epoch 13/500\n",
      "725/725 [==============================] - 53s 73ms/step - loss: 0.6588 - acc: 0.2042 - val_loss: 0.6694 - val_acc: 0.2036\n",
      "Epoch 14/500\n",
      "725/725 [==============================] - 53s 73ms/step - loss: 0.6478 - acc: 0.2043 - val_loss: 0.6312 - val_acc: 0.2037\n",
      "Epoch 15/500\n",
      "725/725 [==============================] - 53s 73ms/step - loss: 0.6391 - acc: 0.2040 - val_loss: 0.6576 - val_acc: 0.2038\n",
      "Epoch 16/500\n",
      "725/725 [==============================] - 53s 73ms/step - loss: 0.6316 - acc: 0.2044 - val_loss: 0.6341 - val_acc: 0.2039\n",
      "Epoch 17/500\n",
      "725/725 [==============================] - 53s 73ms/step - loss: 0.6216 - acc: 0.2045 - val_loss: 0.6206 - val_acc: 0.2036\n",
      "Epoch 18/500\n",
      "725/725 [==============================] - 53s 73ms/step - loss: 0.6151 - acc: 0.2043 - val_loss: 0.6303 - val_acc: 0.2040\n",
      "Epoch 19/500\n",
      "725/725 [==============================] - 53s 73ms/step - loss: 0.6060 - acc: 0.2041 - val_loss: 0.6004 - val_acc: 0.2038\n",
      "Epoch 20/500\n",
      "725/725 [==============================] - 54s 74ms/step - loss: 0.5982 - acc: 0.2042 - val_loss: 0.6108 - val_acc: 0.2037\n",
      "Epoch 21/500\n",
      "725/725 [==============================] - 53s 73ms/step - loss: 0.5904 - acc: 0.2044 - val_loss: 0.5938 - val_acc: 0.2037\n",
      "Epoch 22/500\n",
      "725/725 [==============================] - 53s 73ms/step - loss: 0.5859 - acc: 0.2043 - val_loss: 0.5934 - val_acc: 0.2039\n",
      "Epoch 23/500\n",
      "725/725 [==============================] - 53s 73ms/step - loss: 0.5770 - acc: 0.2044 - val_loss: 0.5870 - val_acc: 0.2037\n",
      "Epoch 24/500\n",
      "725/725 [==============================] - 53s 73ms/step - loss: 0.5707 - acc: 0.2042 - val_loss: 0.5759 - val_acc: 0.2037\n",
      "Epoch 25/500\n",
      "725/725 [==============================] - 53s 73ms/step - loss: 0.5643 - acc: 0.2047 - val_loss: 0.5805 - val_acc: 0.2037\n",
      "Epoch 26/500\n",
      "725/725 [==============================] - 53s 73ms/step - loss: 0.5575 - acc: 0.2046 - val_loss: 0.5655 - val_acc: 0.2039\n",
      "Epoch 27/500\n",
      "725/725 [==============================] - 53s 73ms/step - loss: 0.5503 - acc: 0.2048 - val_loss: 0.5641 - val_acc: 0.2038\n",
      "Epoch 28/500\n",
      "725/725 [==============================] - 54s 74ms/step - loss: 0.5434 - acc: 0.2047 - val_loss: 0.5731 - val_acc: 0.2038\n",
      "Epoch 29/500\n",
      "725/725 [==============================] - 54s 74ms/step - loss: 0.5386 - acc: 0.2047 - val_loss: 0.5559 - val_acc: 0.2038\n",
      "Epoch 30/500\n",
      "725/725 [==============================] - 54s 74ms/step - loss: 0.5330 - acc: 0.2044 - val_loss: 0.5532 - val_acc: 0.2036\n",
      "Epoch 31/500\n",
      "725/725 [==============================] - 54s 74ms/step - loss: 0.5259 - acc: 0.2050 - val_loss: 0.5611 - val_acc: 0.2037\n",
      "Epoch 32/500\n",
      "725/725 [==============================] - 54s 74ms/step - loss: 0.5224 - acc: 0.2046 - val_loss: 0.5289 - val_acc: 0.2038\n",
      "Epoch 33/500\n",
      "725/725 [==============================] - 54s 74ms/step - loss: 0.5160 - acc: 0.2046 - val_loss: 0.5365 - val_acc: 0.2037\n",
      "Epoch 34/500\n",
      "725/725 [==============================] - 54s 74ms/step - loss: 0.5124 - acc: 0.2044 - val_loss: 0.5387 - val_acc: 0.2036\n",
      "Epoch 35/500\n",
      "725/725 [==============================] - 54s 74ms/step - loss: 0.5043 - acc: 0.2047 - val_loss: 0.5375 - val_acc: 0.2037\n",
      "Epoch 36/500\n",
      "725/725 [==============================] - 54s 75ms/step - loss: 0.5013 - acc: 0.2046 - val_loss: 0.5174 - val_acc: 0.2038\n",
      "Epoch 37/500\n",
      "725/725 [==============================] - 53s 73ms/step - loss: 0.4949 - acc: 0.2049 - val_loss: 0.5330 - val_acc: 0.2036\n",
      "Epoch 38/500\n",
      "725/725 [==============================] - 53s 73ms/step - loss: 0.4894 - acc: 0.2048 - val_loss: 0.5240 - val_acc: 0.2039\n",
      "Epoch 39/500\n",
      "725/725 [==============================] - 53s 73ms/step - loss: 0.4855 - acc: 0.2049 - val_loss: 0.5195 - val_acc: 0.2038\n",
      "Epoch 40/500\n",
      "725/725 [==============================] - 53s 73ms/step - loss: 0.4789 - acc: 0.2051 - val_loss: 0.5414 - val_acc: 0.2035\n",
      "Epoch 41/500\n",
      "725/725 [==============================] - 53s 73ms/step - loss: 0.4732 - acc: 0.2050 - val_loss: 0.5099 - val_acc: 0.2040\n",
      "Epoch 42/500\n",
      "725/725 [==============================] - 53s 73ms/step - loss: 0.4679 - acc: 0.2046 - val_loss: 0.5099 - val_acc: 0.2040\n",
      "Epoch 43/500\n",
      "725/725 [==============================] - 53s 73ms/step - loss: 0.4664 - acc: 0.2049 - val_loss: 0.5074 - val_acc: 0.2038\n",
      "Epoch 44/500\n",
      "725/725 [==============================] - 53s 73ms/step - loss: 0.4606 - acc: 0.2046 - val_loss: 0.5154 - val_acc: 0.2038\n",
      "Epoch 45/500\n",
      "725/725 [==============================] - 53s 73ms/step - loss: 0.4554 - acc: 0.2048 - val_loss: 0.4980 - val_acc: 0.2040\n",
      "Epoch 46/500\n",
      "725/725 [==============================] - 53s 73ms/step - loss: 0.4509 - acc: 0.2046 - val_loss: 0.5085 - val_acc: 0.2041\n",
      "Epoch 47/500\n",
      "725/725 [==============================] - 53s 73ms/step - loss: 0.4468 - acc: 0.2047 - val_loss: 0.5101 - val_acc: 0.2038\n",
      "Epoch 48/500\n",
      "725/725 [==============================] - 53s 73ms/step - loss: 0.4410 - acc: 0.2049 - val_loss: 0.5024 - val_acc: 0.2038\n",
      "Epoch 49/500\n",
      "725/725 [==============================] - 54s 74ms/step - loss: 0.4402 - acc: 0.2051 - val_loss: 0.4893 - val_acc: 0.2040\n",
      "Epoch 50/500\n",
      "725/725 [==============================] - 53s 73ms/step - loss: 0.4322 - acc: 0.2049 - val_loss: 0.4802 - val_acc: 0.2041\n",
      "Epoch 51/500\n",
      "725/725 [==============================] - 53s 73ms/step - loss: 0.4292 - acc: 0.2051 - val_loss: 0.4855 - val_acc: 0.2037\n",
      "Epoch 52/500\n",
      "725/725 [==============================] - 53s 73ms/step - loss: 0.4240 - acc: 0.2049 - val_loss: 0.4769 - val_acc: 0.2039\n",
      "Epoch 53/500\n",
      "725/725 [==============================] - 53s 73ms/step - loss: 0.4232 - acc: 0.2049 - val_loss: 0.4990 - val_acc: 0.2039\n",
      "Epoch 54/500\n",
      "725/725 [==============================] - 53s 73ms/step - loss: 0.4178 - acc: 0.2050 - val_loss: 0.4755 - val_acc: 0.2042\n",
      "Epoch 55/500\n",
      "725/725 [==============================] - 53s 73ms/step - loss: 0.4121 - acc: 0.2049 - val_loss: 0.4863 - val_acc: 0.2041\n",
      "Epoch 56/500\n",
      "725/725 [==============================] - 53s 73ms/step - loss: 0.4123 - acc: 0.2049 - val_loss: 0.4806 - val_acc: 0.2041\n",
      "Epoch 57/500\n",
      "725/725 [==============================] - 53s 73ms/step - loss: 0.4085 - acc: 0.2048 - val_loss: 0.4939 - val_acc: 0.2042\n",
      "Epoch 58/500\n",
      "725/725 [==============================] - 53s 73ms/step - loss: 0.4059 - acc: 0.2053 - val_loss: 0.4814 - val_acc: 0.2039\n",
      "Epoch 59/500\n",
      "725/725 [==============================] - 53s 73ms/step - loss: 0.4026 - acc: 0.2050 - val_loss: 0.4737 - val_acc: 0.2040\n",
      "Epoch 60/500\n",
      "725/725 [==============================] - 53s 73ms/step - loss: 0.3993 - acc: 0.2051 - val_loss: 0.4720 - val_acc: 0.2041\n",
      "Epoch 61/500\n",
      "725/725 [==============================] - 53s 73ms/step - loss: 0.3969 - acc: 0.2053 - val_loss: 0.4678 - val_acc: 0.2041\n",
      "Epoch 62/500\n",
      "725/725 [==============================] - 53s 73ms/step - loss: 0.3954 - acc: 0.2053 - val_loss: 0.4674 - val_acc: 0.2043\n",
      "Epoch 63/500\n",
      "725/725 [==============================] - 53s 73ms/step - loss: 0.3891 - acc: 0.2051 - val_loss: 0.4569 - val_acc: 0.2041\n",
      "Epoch 64/500\n",
      "725/725 [==============================] - 53s 74ms/step - loss: 0.3875 - acc: 0.2050 - val_loss: 0.4759 - val_acc: 0.2041\n",
      "Epoch 65/500\n",
      "725/725 [==============================] - 53s 73ms/step - loss: 0.3862 - acc: 0.2054 - val_loss: 0.4607 - val_acc: 0.2041\n",
      "Epoch 66/500\n",
      "725/725 [==============================] - 53s 74ms/step - loss: 0.3801 - acc: 0.2050 - val_loss: 0.4723 - val_acc: 0.2040\n",
      "Epoch 67/500\n",
      "725/725 [==============================] - 53s 74ms/step - loss: 0.3809 - acc: 0.2052 - val_loss: 0.4630 - val_acc: 0.2042\n",
      "Epoch 68/500\n",
      "725/725 [==============================] - 53s 73ms/step - loss: 0.3739 - acc: 0.2050 - val_loss: 0.4817 - val_acc: 0.2042\n"
     ]
    }
   ],
   "source": [
    "earlystopping = EarlyStopping(monitor =\"val_loss\", \n",
    "                                        mode =\"min\", patience = 5, \n",
    "                                        restore_best_weights = True)\n",
    "  \n",
    "history = cnn_model.fit(x_train_unsqueeze, y_train, batch_size = 128, \n",
    "                    epochs = 500, validation_data =(x_val_unsqueeze, y_val), \n",
    "                    callbacks =[earlystopping])"
   ]
  },
  {
   "cell_type": "code",
   "execution_count": 22,
   "metadata": {
    "id": "Z3rMnWgoJVIl"
   },
   "outputs": [],
   "source": [
    "import matplotlib.pyplot as plt"
   ]
  },
  {
   "cell_type": "markdown",
   "metadata": {
    "id": "FWr7vo7kLqnv"
   },
   "source": [
    "### Summarize history for accuracy"
   ]
  },
  {
   "cell_type": "code",
   "execution_count": 24,
   "metadata": {
    "colab": {
     "base_uri": "https://localhost:8080/",
     "height": 294
    },
    "id": "LLiAquq1JFIO",
    "outputId": "d9720b12-1af8-44f3-a682-02988fb2a6a0"
   },
   "outputs": [
    {
     "data": {
      "image/png": "[encoded data removed]",
      "text/plain": [
       "<Figure size 432x288 with 1 Axes>"
      ]
     },
     "metadata": {
      "needs_background": "light"
     },
     "output_type": "display_data"
    }
   ],
   "source": [
    "plt.plot(history.history['acc'])\n",
    "plt.plot(history.history['val_acc'])\n",
    "plt.title('model accuracy')\n",
    "plt.ylabel('accuracy')\n",
    "plt.xlabel('epoch')\n",
    "plt.legend(['train', 'test'], loc='upper left')\n",
    "plt.show()"
   ]
  },
  {
   "cell_type": "markdown",
   "metadata": {
    "id": "kYLPG-jWLyc8"
   },
   "source": [
    "### Summarize history for loss"
   ]
  },
  {
   "cell_type": "code",
   "execution_count": 25,
   "metadata": {
    "colab": {
     "base_uri": "https://localhost:8080/",
     "height": 294
    },
    "id": "qgibWNn1JosF",
    "outputId": "0061b7ef-7366-43c5-e114-cc6aceecd9ec"
   },
   "outputs": [
    {
     "data": {
      "image/png": "[encoded data removed]",
      "text/plain": [
       "<Figure size 432x288 with 1 Axes>"
      ]
     },
     "metadata": {
      "needs_background": "light"
     },
     "output_type": "display_data"
    }
   ],
   "source": [
    "plt.plot(history.history['loss'])\n",
    "plt.plot(history.history['val_loss'])\n",
    "plt.title('model loss')\n",
    "plt.ylabel('loss')\n",
    "plt.xlabel('epoch')\n",
    "plt.legend(['train', 'test'], loc='upper left')\n",
    "plt.show()\n"
   ]
  },
  {
   "cell_type": "markdown",
   "metadata": {
    "id": "qkKOxqn8L1ul"
   },
   "source": [
    "### Model Saving"
   ]
  },
  {
   "cell_type": "code",
   "execution_count": 12,
   "metadata": {
    "id": "tEWVN0Cr5U7U"
   },
   "outputs": [],
   "source": [
    "cnn_model.save('/content/drive/MyDrive/Iot/Model_Save/cnn.h5')"
   ]
  },
  {
   "cell_type": "markdown",
   "metadata": {
    "id": "v2r62Hu0HkGu"
   },
   "source": [
    "## Testing"
   ]
  },
  {
   "cell_type": "markdown",
   "metadata": {
    "id": "VBwOxZlVKvNu"
   },
   "source": [
    "### Testing on Training Data"
   ]
  },
  {
   "cell_type": "code",
   "execution_count": 27,
   "metadata": {
    "id": "8W44-7Z9H6ql"
   },
   "outputs": [],
   "source": [
    "y_pred_train = cnn_model.predict(x_train_unsqueeze)\n",
    "y_pred_train = y_pred_train.argmax(axis=-1).ravel().tolist()"
   ]
  },
  {
   "cell_type": "code",
   "execution_count": 29,
   "metadata": {
    "colab": {
     "base_uri": "https://localhost:8080/"
    },
    "id": "M4LMbMmDHwHb",
    "outputId": "4ab16047-1eeb-4b46-e241-649b9afe45b4"
   },
   "outputs": [
    {
     "name": "stdout",
     "output_type": "stream",
     "text": [
      "              precision    recall  f1-score   support\n",
      "\n",
      "           0       0.95      0.89      0.92     18548\n",
      "           1       0.78      0.82      0.80     18547\n",
      "           2       0.87      0.83      0.85     18547\n",
      "           3       0.93      0.97      0.95     18547\n",
      "           4       0.84      0.85      0.84     18547\n",
      "\n",
      "    accuracy                           0.87     92736\n",
      "   macro avg       0.87      0.87      0.87     92736\n",
      "weighted avg       0.87      0.87      0.87     92736\n",
      "\n"
     ]
    }
   ],
   "source": [
    "report = classification_report(y_train, y_pred_train)\n",
    "print(report)"
   ]
  },
  {
   "cell_type": "markdown",
   "metadata": {
    "id": "A-Kp2Ef2K9UJ"
   },
   "source": [
    "### Testing on Testing Data"
   ]
  },
  {
   "cell_type": "code",
   "execution_count": 28,
   "metadata": {
    "id": "ygFUUJ6qHYzX"
   },
   "outputs": [],
   "source": [
    "x_test_unsqueeze=x_test.reshape(x_test.shape[0],1,3000,1)"
   ]
  },
  {
   "cell_type": "code",
   "execution_count": 31,
   "metadata": {
    "id": "wKEeNe3AHz9Z"
   },
   "outputs": [],
   "source": [
    "y_pred_test = cnn_model.predict(x_test_unsqueeze)\n",
    "y_pred_test = y_pred_test.argmax(axis=-1).ravel().tolist()"
   ]
  },
  {
   "cell_type": "code",
   "execution_count": 32,
   "metadata": {
    "colab": {
     "base_uri": "https://localhost:8080/"
    },
    "id": "F5EHYVrRLJvD",
    "outputId": "a25ccb0d-be7d-46aa-87ec-d194f27dbbf8"
   },
   "outputs": [
    {
     "name": "stdout",
     "output_type": "stream",
     "text": [
      "              precision    recall  f1-score   support\n",
      "\n",
      "           0       0.92      0.86      0.89      2289\n",
      "           1       0.72      0.74      0.73      2290\n",
      "           2       0.80      0.77      0.79      2290\n",
      "           3       0.90      0.95      0.92      2290\n",
      "           4       0.78      0.79      0.79      2290\n",
      "\n",
      "    accuracy                           0.82     11449\n",
      "   macro avg       0.82      0.82      0.82     11449\n",
      "weighted avg       0.82      0.82      0.82     11449\n",
      "\n"
     ]
    }
   ],
   "source": [
    "report = classification_report(y_test, y_pred_test)\n",
    "print(report)"
   ]
  }
 ],
 "metadata": {
  "accelerator": "GPU",
  "colab": {
   "collapsed_sections": [],
   "name": "Training CNN.ipynb",
   "provenance": [],
   "toc_visible": true
  },
  "kernelspec": {
   "display_name": "Python 3",
   "language": "python",
   "name": "python3"
  },
  "language_info": {
   "codemirror_mode": {
    "name": "ipython",
    "version": 3
   },
   "file_extension": ".py",
   "mimetype": "text/x-python",
   "name": "python",
   "nbconvert_exporter": "python",
   "pygments_lexer": "ipython3",
   "version": "3.8.8"
  }
 },
 "nbformat": 4,
 "nbformat_minor": 1
}
