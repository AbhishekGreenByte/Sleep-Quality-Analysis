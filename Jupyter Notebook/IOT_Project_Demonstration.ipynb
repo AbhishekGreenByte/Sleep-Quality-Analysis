{
  "nbformat": 4,
  "nbformat_minor": 0,
  "metadata": {
    "colab": {
      "name": "IOT Project Demonstration.ipynb",
      "provenance": [],
      "collapsed_sections": []
    },
    "kernelspec": {
      "name": "python3",
      "display_name": "Python 3"
    },
    "language_info": {
      "name": "python"
    }
  },
  "cells": [
    {
      "cell_type": "markdown",
      "metadata": {
        "id": "ZwzduKdngMsf"
      },
      "source": [
        "# Sleep Pattern Prediction - Demonstration"
      ]
    },
    {
      "cell_type": "markdown",
      "metadata": {
        "id": "1WhXC6A6gVlm"
      },
      "source": [
        "## Loading Libraries"
      ]
    },
    {
      "cell_type": "code",
      "metadata": {
        "id": "bZi-fHiHf_7M"
      },
      "source": [
        "import numpy as np\n",
        "import matplotlib.pyplot as plt\n",
        "import tensorflow as tf\n",
        "from sklearn.metrics import classification_report\n",
        "from numpy import load\n",
        "import joblib"
      ],
      "execution_count": 10,
      "outputs": []
    },
    {
      "cell_type": "markdown",
      "metadata": {
        "id": "5kHa7MNsgtIV"
      },
      "source": [
        "## Loading Dataset"
      ]
    },
    {
      "cell_type": "code",
      "metadata": {
        "colab": {
          "base_uri": "https://localhost:8080/"
        },
        "id": "5F7gv4fwgrZR",
        "outputId": "d1a17e4b-35cd-4189-892a-2a497c56cee6"
      },
      "source": [
        "from google.colab import drive\n",
        "drive.mount('/content/drive')"
      ],
      "execution_count": 2,
      "outputs": [
        {
          "output_type": "stream",
          "name": "stdout",
          "text": [
            "Mounted at /content/drive\n"
          ]
        }
      ]
    },
    {
      "cell_type": "code",
      "metadata": {
        "id": "KF8tHTlOgx0e"
      },
      "source": [
        "x_train = load('/content/drive/MyDrive/Iot/Data/x_train.npy')\n",
        "y_train = load('/content/drive/MyDrive/Iot/Data/y_train.npy')\n",
        "x_val = load('/content/drive/MyDrive/Iot/Data/x_val.npy')\n",
        "y_val = load('/content/drive/MyDrive/Iot/Data/y_val.npy')\n",
        "x_test = load('/content/drive/MyDrive/Iot/Data/x_test.npy')\n",
        "y_test = load('/content/drive/MyDrive/Iot/Data/y_test.npy')"
      ],
      "execution_count": 4,
      "outputs": []
    },
    {
      "cell_type": "code",
      "metadata": {
        "id": "IZUU7iBxg9Hx"
      },
      "source": [
        "x_train_unsqueeze=x_train.reshape(x_train.shape[0],1,3000,1)\n",
        "x_val_unsqueeze=x_val.reshape(x_val.shape[0],1,3000,1)\n",
        "x_test_unsqueeze=x_test.reshape(x_test.shape[0],1,3000,1)"
      ],
      "execution_count": 5,
      "outputs": []
    },
    {
      "cell_type": "markdown",
      "metadata": {
        "id": "M3SB3RlehOF9"
      },
      "source": [
        "## Loading Model"
      ]
    },
    {
      "cell_type": "code",
      "metadata": {
        "id": "7if5RzvJhEeF"
      },
      "source": [
        "cnn_model= tf.keras.models.load_model('/content/drive/MyDrive/Iot/Model_Save/cnn.h5')"
      ],
      "execution_count": 7,
      "outputs": []
    },
    {
      "cell_type": "code",
      "metadata": {
        "id": "nkVZtVhDhXYf"
      },
      "source": [
        "lstm_model= tf.keras.models.load_model('/content/drive/MyDrive/Iot/Model_Save/lstm.h5')"
      ],
      "execution_count": 8,
      "outputs": []
    },
    {
      "cell_type": "code",
      "metadata": {
        "id": "e7MltezmhfyO"
      },
      "source": [
        "rfc=joblib.load('/content/drive/MyDrive/Iot/Model_Save/randomForest.pkl')"
      ],
      "execution_count": 11,
      "outputs": []
    },
    {
      "cell_type": "code",
      "metadata": {
        "id": "788tvX0oh-NA"
      },
      "source": [
        "xgb=joblib.load('/content/drive/MyDrive/Iot/Model_Save/xgboost.pkl')"
      ],
      "execution_count": 12,
      "outputs": []
    },
    {
      "cell_type": "markdown",
      "metadata": {
        "id": "aw-lswW0iFFP"
      },
      "source": [
        "## Prediction "
      ]
    },
    {
      "cell_type": "markdown",
      "metadata": {
        "id": "ye-dplEpikPx"
      },
      "source": [
        "### Testing Class 0"
      ]
    },
    {
      "cell_type": "code",
      "metadata": {
        "colab": {
          "base_uri": "https://localhost:8080/"
        },
        "id": "npshh0LFiz4l",
        "outputId": "78b2f0a0-7cab-4eec-dbe3-557092b3b87b"
      },
      "source": [
        "y_test[201]"
      ],
      "execution_count": 34,
      "outputs": [
        {
          "output_type": "execute_result",
          "data": {
            "text/plain": [
              "0"
            ]
          },
          "metadata": {},
          "execution_count": 34
        }
      ]
    },
    {
      "cell_type": "markdown",
      "metadata": {
        "id": "28UsS4Lwu2dM"
      },
      "source": [
        "**CNN**"
      ]
    },
    {
      "cell_type": "code",
      "metadata": {
        "colab": {
          "base_uri": "https://localhost:8080/"
        },
        "id": "A5UHRXOriDlZ",
        "outputId": "30bcadae-576f-4798-b091-3f7d3b5b884c"
      },
      "source": [
        "np.argmax(cnn_model.predict(x_test_unsqueeze[[201]]))"
      ],
      "execution_count": 32,
      "outputs": [
        {
          "output_type": "execute_result",
          "data": {
            "text/plain": [
              "0"
            ]
          },
          "metadata": {},
          "execution_count": 32
        }
      ]
    },
    {
      "cell_type": "markdown",
      "metadata": {
        "id": "poqWoXHju43q"
      },
      "source": [
        "**LSTM**"
      ]
    },
    {
      "cell_type": "code",
      "metadata": {
        "colab": {
          "base_uri": "https://localhost:8080/"
        },
        "id": "FXhUMfB8uxNA",
        "outputId": "df86b23a-77e4-4fd2-aeb5-62a923cd2102"
      },
      "source": [
        "np.argmax(lstm_model.predict(x_test_unsqueeze[[201]]))"
      ],
      "execution_count": 35,
      "outputs": [
        {
          "output_type": "execute_result",
          "data": {
            "text/plain": [
              "0"
            ]
          },
          "metadata": {},
          "execution_count": 35
        }
      ]
    },
    {
      "cell_type": "markdown",
      "metadata": {
        "id": "8Y5E4KgcvEo2"
      },
      "source": [
        "**Random Forest**"
      ]
    },
    {
      "cell_type": "code",
      "metadata": {
        "colab": {
          "base_uri": "https://localhost:8080/"
        },
        "id": "AQlwdCYXvApY",
        "outputId": "67fbfc10-733f-4615-de6a-84604dbd042f"
      },
      "source": [
        "rfc.predict(x_test[[201]])[0]"
      ],
      "execution_count": 44,
      "outputs": [
        {
          "output_type": "execute_result",
          "data": {
            "text/plain": [
              "3"
            ]
          },
          "metadata": {},
          "execution_count": 44
        }
      ]
    },
    {
      "cell_type": "markdown",
      "metadata": {
        "id": "3tKjcd-PwXxM"
      },
      "source": [
        "**XGBoost**"
      ]
    },
    {
      "cell_type": "code",
      "metadata": {
        "colab": {
          "base_uri": "https://localhost:8080/"
        },
        "id": "EydOOmY1vKnw",
        "outputId": "531a435d-0604-4d44-8bd0-6f509796b939"
      },
      "source": [
        "xgb.predict(x_test[[201]])[0]"
      ],
      "execution_count": 45,
      "outputs": [
        {
          "output_type": "execute_result",
          "data": {
            "text/plain": [
              "3"
            ]
          },
          "metadata": {},
          "execution_count": 45
        }
      ]
    },
    {
      "cell_type": "markdown",
      "metadata": {
        "id": "RCjz170jvgTa"
      },
      "source": [
        "# Testing Class 1"
      ]
    },
    {
      "cell_type": "code",
      "metadata": {
        "colab": {
          "base_uri": "https://localhost:8080/"
        },
        "id": "pGjnMMQcvXM_",
        "outputId": "cf953331-31e6-4cde-bf75-e3d17715f035"
      },
      "source": [
        "y_test[100]"
      ],
      "execution_count": 46,
      "outputs": [
        {
          "output_type": "execute_result",
          "data": {
            "text/plain": [
              "1"
            ]
          },
          "metadata": {},
          "execution_count": 46
        }
      ]
    },
    {
      "cell_type": "markdown",
      "metadata": {
        "id": "J9PRMNuNv85F"
      },
      "source": [
        "**CNN**"
      ]
    },
    {
      "cell_type": "code",
      "metadata": {
        "colab": {
          "base_uri": "https://localhost:8080/"
        },
        "id": "dEEn7ykzvmzQ",
        "outputId": "9b248b15-4120-421c-b75f-1f9007854601"
      },
      "source": [
        "np.argmax(cnn_model.predict(x_test_unsqueeze[[100]]))"
      ],
      "execution_count": 47,
      "outputs": [
        {
          "output_type": "execute_result",
          "data": {
            "text/plain": [
              "1"
            ]
          },
          "metadata": {},
          "execution_count": 47
        }
      ]
    },
    {
      "cell_type": "markdown",
      "metadata": {
        "id": "dsbxyUrAv-qC"
      },
      "source": [
        "**LSTM**"
      ]
    },
    {
      "cell_type": "code",
      "metadata": {
        "colab": {
          "base_uri": "https://localhost:8080/"
        },
        "id": "8udBDEEkvprf",
        "outputId": "2a1fd717-08b8-4bb2-ead4-78206efc7126"
      },
      "source": [
        "np.argmax(lstm_model.predict(x_test_unsqueeze[[100]]))"
      ],
      "execution_count": 48,
      "outputs": [
        {
          "output_type": "execute_result",
          "data": {
            "text/plain": [
              "1"
            ]
          },
          "metadata": {},
          "execution_count": 48
        }
      ]
    },
    {
      "cell_type": "markdown",
      "metadata": {
        "id": "2rRlpqPswAvx"
      },
      "source": [
        "**Random Forest**"
      ]
    },
    {
      "cell_type": "code",
      "metadata": {
        "colab": {
          "base_uri": "https://localhost:8080/"
        },
        "id": "9N1EWiKVvsaz",
        "outputId": "29e6fd2f-036c-4ed7-a1db-b9c79ecf8e2b"
      },
      "source": [
        "rfc.predict(x_test[[100]])[0]"
      ],
      "execution_count": 49,
      "outputs": [
        {
          "output_type": "execute_result",
          "data": {
            "text/plain": [
              "1"
            ]
          },
          "metadata": {},
          "execution_count": 49
        }
      ]
    },
    {
      "cell_type": "markdown",
      "metadata": {
        "id": "axncvwl-wTfb"
      },
      "source": [
        "**XGBoost**"
      ]
    },
    {
      "cell_type": "code",
      "metadata": {
        "colab": {
          "base_uri": "https://localhost:8080/"
        },
        "id": "0f3ubo5IvvKI",
        "outputId": "f96ae017-3adf-4918-9e46-7f38442a6883"
      },
      "source": [
        "xgb.predict(x_test[[100]])[0]"
      ],
      "execution_count": 50,
      "outputs": [
        {
          "output_type": "execute_result",
          "data": {
            "text/plain": [
              "1"
            ]
          },
          "metadata": {},
          "execution_count": 50
        }
      ]
    },
    {
      "cell_type": "markdown",
      "metadata": {
        "id": "hFO7LlAkwa1c"
      },
      "source": [
        "## Testing Class 2"
      ]
    },
    {
      "cell_type": "code",
      "metadata": {
        "colab": {
          "base_uri": "https://localhost:8080/"
        },
        "id": "8X_BAeE6v5yS",
        "outputId": "74ac96e2-ae37-4631-d2cd-e639ea503690"
      },
      "source": [
        "y_test[114]"
      ],
      "execution_count": 51,
      "outputs": [
        {
          "output_type": "execute_result",
          "data": {
            "text/plain": [
              "2"
            ]
          },
          "metadata": {},
          "execution_count": 51
        }
      ]
    },
    {
      "cell_type": "markdown",
      "metadata": {
        "id": "guPT087H9IcO"
      },
      "source": [
        "**CNN**"
      ]
    },
    {
      "cell_type": "code",
      "metadata": {
        "colab": {
          "base_uri": "https://localhost:8080/"
        },
        "id": "tugPEQUKwiqI",
        "outputId": "1532044a-f073-49d5-f1e5-fa508871a5c8"
      },
      "source": [
        "np.argmax(cnn_model.predict(x_test_unsqueeze[[114]]))"
      ],
      "execution_count": 52,
      "outputs": [
        {
          "output_type": "execute_result",
          "data": {
            "text/plain": [
              "2"
            ]
          },
          "metadata": {},
          "execution_count": 52
        }
      ]
    },
    {
      "cell_type": "markdown",
      "metadata": {
        "id": "Yo6yXJ389KCZ"
      },
      "source": [
        "**LSTM**"
      ]
    },
    {
      "cell_type": "code",
      "metadata": {
        "colab": {
          "base_uri": "https://localhost:8080/"
        },
        "id": "rE4didwownqv",
        "outputId": "12eba75f-9867-4a3f-8552-970bd139016d"
      },
      "source": [
        "np.argmax(lstm_model.predict(x_test_unsqueeze[[114]]))"
      ],
      "execution_count": 53,
      "outputs": [
        {
          "output_type": "execute_result",
          "data": {
            "text/plain": [
              "3"
            ]
          },
          "metadata": {},
          "execution_count": 53
        }
      ]
    },
    {
      "cell_type": "markdown",
      "metadata": {
        "id": "WTcKLGEO9MPa"
      },
      "source": [
        "**Random Forest**"
      ]
    },
    {
      "cell_type": "code",
      "metadata": {
        "colab": {
          "base_uri": "https://localhost:8080/"
        },
        "id": "QmhiVqRywqtk",
        "outputId": "bdb6b5eb-9f95-42f2-917f-ff5e60e7b267"
      },
      "source": [
        "rfc.predict(x_test[[114]])[0]"
      ],
      "execution_count": 54,
      "outputs": [
        {
          "output_type": "execute_result",
          "data": {
            "text/plain": [
              "3"
            ]
          },
          "metadata": {},
          "execution_count": 54
        }
      ]
    },
    {
      "cell_type": "markdown",
      "metadata": {
        "id": "q_IQCWcD9PT6"
      },
      "source": [
        "**XGBoost**"
      ]
    },
    {
      "cell_type": "code",
      "metadata": {
        "colab": {
          "base_uri": "https://localhost:8080/"
        },
        "id": "Kd1A3Ibfwuna",
        "outputId": "4e4d1602-a0cd-44ce-a403-688914cce60d"
      },
      "source": [
        "xgb.predict(x_test[[114]])[0]"
      ],
      "execution_count": 55,
      "outputs": [
        {
          "output_type": "execute_result",
          "data": {
            "text/plain": [
              "3"
            ]
          },
          "metadata": {},
          "execution_count": 55
        }
      ]
    },
    {
      "cell_type": "markdown",
      "metadata": {
        "id": "DMfGwHPyxHDy"
      },
      "source": [
        "## Testing Class 3"
      ]
    },
    {
      "cell_type": "code",
      "metadata": {
        "colab": {
          "base_uri": "https://localhost:8080/"
        },
        "id": "Nq2GJHuaw1PD",
        "outputId": "04812c79-e7cc-42dd-c15d-ff5fd46ff395"
      },
      "source": [
        "y_test[103]"
      ],
      "execution_count": 56,
      "outputs": [
        {
          "output_type": "execute_result",
          "data": {
            "text/plain": [
              "3"
            ]
          },
          "metadata": {},
          "execution_count": 56
        }
      ]
    },
    {
      "cell_type": "markdown",
      "metadata": {
        "id": "2oFVLigg9ljR"
      },
      "source": [
        "**CNN**"
      ]
    },
    {
      "cell_type": "code",
      "metadata": {
        "colab": {
          "base_uri": "https://localhost:8080/"
        },
        "id": "UY0ZY7WPxQ8e",
        "outputId": "99d40acf-fbb6-48a7-c25b-214471a3d5d2"
      },
      "source": [
        "np.argmax(cnn_model.predict(x_test_unsqueeze[[103]]))"
      ],
      "execution_count": 57,
      "outputs": [
        {
          "output_type": "execute_result",
          "data": {
            "text/plain": [
              "3"
            ]
          },
          "metadata": {},
          "execution_count": 57
        }
      ]
    },
    {
      "cell_type": "markdown",
      "metadata": {
        "id": "o1Smsa2e9nCz"
      },
      "source": [
        "**LSTM**"
      ]
    },
    {
      "cell_type": "code",
      "metadata": {
        "colab": {
          "base_uri": "https://localhost:8080/"
        },
        "id": "b0JSA6XMxcqW",
        "outputId": "b72615c4-1ea0-44c2-e84b-f25012c4d96e"
      },
      "source": [
        "np.argmax(lstm_model.predict(x_test_unsqueeze[[103]]))"
      ],
      "execution_count": 58,
      "outputs": [
        {
          "output_type": "execute_result",
          "data": {
            "text/plain": [
              "3"
            ]
          },
          "metadata": {},
          "execution_count": 58
        }
      ]
    },
    {
      "cell_type": "markdown",
      "metadata": {
        "id": "E1bIPhzi9pAE"
      },
      "source": [
        "**Random Forest**"
      ]
    },
    {
      "cell_type": "code",
      "metadata": {
        "colab": {
          "base_uri": "https://localhost:8080/"
        },
        "id": "67Km79ydxfW3",
        "outputId": "4f6a6d29-a431-4c67-f168-408c3a630fe2"
      },
      "source": [
        "rfc.predict(x_test[[103]])[0]"
      ],
      "execution_count": 59,
      "outputs": [
        {
          "output_type": "execute_result",
          "data": {
            "text/plain": [
              "3"
            ]
          },
          "metadata": {},
          "execution_count": 59
        }
      ]
    },
    {
      "cell_type": "markdown",
      "metadata": {
        "id": "jBZBC2Xs9r76"
      },
      "source": [
        "**XGBoost**"
      ]
    },
    {
      "cell_type": "code",
      "metadata": {
        "colab": {
          "base_uri": "https://localhost:8080/"
        },
        "id": "zGo2Nl93xiFX",
        "outputId": "ed97acfd-56c8-4aeb-b9bd-5e5927838c0b"
      },
      "source": [
        "xgb.predict(x_test[[103]])[0]"
      ],
      "execution_count": 60,
      "outputs": [
        {
          "output_type": "execute_result",
          "data": {
            "text/plain": [
              "3"
            ]
          },
          "metadata": {},
          "execution_count": 60
        }
      ]
    },
    {
      "cell_type": "markdown",
      "metadata": {
        "id": "lNUGNuA6xln5"
      },
      "source": [
        "#Testing Class 4"
      ]
    },
    {
      "cell_type": "code",
      "metadata": {
        "colab": {
          "base_uri": "https://localhost:8080/"
        },
        "id": "TgrJLqwZxkpb",
        "outputId": "cd04b367-d1b1-4801-a5dd-f0c08f8260e0"
      },
      "source": [
        "y_test[104]"
      ],
      "execution_count": 61,
      "outputs": [
        {
          "output_type": "execute_result",
          "data": {
            "text/plain": [
              "4"
            ]
          },
          "metadata": {},
          "execution_count": 61
        }
      ]
    },
    {
      "cell_type": "markdown",
      "metadata": {
        "id": "lc-1FThK9unT"
      },
      "source": [
        "**CNN**"
      ]
    },
    {
      "cell_type": "code",
      "metadata": {
        "colab": {
          "base_uri": "https://localhost:8080/"
        },
        "id": "Y07_Wsnfxp3D",
        "outputId": "e4a7ffc1-0f27-4f44-e18a-ca1e29d459db"
      },
      "source": [
        "np.argmax(cnn_model.predict(x_test_unsqueeze[[104]]))"
      ],
      "execution_count": 62,
      "outputs": [
        {
          "output_type": "execute_result",
          "data": {
            "text/plain": [
              "4"
            ]
          },
          "metadata": {},
          "execution_count": 62
        }
      ]
    },
    {
      "cell_type": "markdown",
      "metadata": {
        "id": "nIEeJ7yj9v6D"
      },
      "source": [
        "**LSTM**"
      ]
    },
    {
      "cell_type": "code",
      "metadata": {
        "colab": {
          "base_uri": "https://localhost:8080/"
        },
        "id": "L_Ye8FHzxsRg",
        "outputId": "67a14776-5f31-4b45-a167-da74a333cf9c"
      },
      "source": [
        "np.argmax(lstm_model.predict(x_test_unsqueeze[[104]]))"
      ],
      "execution_count": 63,
      "outputs": [
        {
          "output_type": "execute_result",
          "data": {
            "text/plain": [
              "2"
            ]
          },
          "metadata": {},
          "execution_count": 63
        }
      ]
    },
    {
      "cell_type": "markdown",
      "metadata": {
        "id": "Jmx6_-zV9xIG"
      },
      "source": [
        "**Random Forest**"
      ]
    },
    {
      "cell_type": "code",
      "metadata": {
        "colab": {
          "base_uri": "https://localhost:8080/"
        },
        "id": "0PMR2UqRxuHA",
        "outputId": "7c7d93c3-a9a6-4ec9-9061-a8f549866097"
      },
      "source": [
        "rfc.predict(x_test[[104]])[0]"
      ],
      "execution_count": 64,
      "outputs": [
        {
          "output_type": "execute_result",
          "data": {
            "text/plain": [
              "2"
            ]
          },
          "metadata": {},
          "execution_count": 64
        }
      ]
    },
    {
      "cell_type": "markdown",
      "metadata": {
        "id": "9mABamvM90Cq"
      },
      "source": [
        "**XGBoost**"
      ]
    },
    {
      "cell_type": "code",
      "metadata": {
        "colab": {
          "base_uri": "https://localhost:8080/"
        },
        "id": "q98osXgDxxpL",
        "outputId": "8894a401-74e1-4343-ea7f-6da67d657f27"
      },
      "source": [
        "xgb.predict(x_test[[104]])[0]"
      ],
      "execution_count": 65,
      "outputs": [
        {
          "output_type": "execute_result",
          "data": {
            "text/plain": [
              "2"
            ]
          },
          "metadata": {},
          "execution_count": 65
        }
      ]
    },
    {
      "cell_type": "markdown",
      "metadata": {
        "id": "sdG638WNyvnb"
      },
      "source": [
        "## Evaluation of all Models"
      ]
    },
    {
      "cell_type": "markdown",
      "metadata": {
        "id": "oJs-SQ8F93Jj"
      },
      "source": [
        "**CNN**"
      ]
    },
    {
      "cell_type": "code",
      "metadata": {
        "colab": {
          "base_uri": "https://localhost:8080/"
        },
        "id": "5-zAmqSIx0G6",
        "outputId": "2bc5d206-d5c9-4fe6-df8b-4be798c447fe"
      },
      "source": [
        "y_pred = cnn_model.predict(x_test_unsqueeze)\n",
        "y_pred = y_pred.argmax(axis=-1).ravel().tolist()\n",
        "report = classification_report(y_test, y_pred)\n",
        "print(report)"
      ],
      "execution_count": 67,
      "outputs": [
        {
          "output_type": "stream",
          "name": "stdout",
          "text": [
            "              precision    recall  f1-score   support\n",
            "\n",
            "           0       0.92      0.86      0.89      2289\n",
            "           1       0.72      0.74      0.73      2290\n",
            "           2       0.80      0.77      0.79      2290\n",
            "           3       0.90      0.95      0.92      2290\n",
            "           4       0.78      0.79      0.79      2290\n",
            "\n",
            "    accuracy                           0.82     11449\n",
            "   macro avg       0.82      0.82      0.82     11449\n",
            "weighted avg       0.82      0.82      0.82     11449\n",
            "\n"
          ]
        }
      ]
    },
    {
      "cell_type": "markdown",
      "metadata": {
        "id": "rPNQv45i94nL"
      },
      "source": [
        "**LSTM**"
      ]
    },
    {
      "cell_type": "code",
      "metadata": {
        "colab": {
          "base_uri": "https://localhost:8080/"
        },
        "id": "7vgQdvKEy-jh",
        "outputId": "265df40b-9693-493e-c3b1-861733a40303"
      },
      "source": [
        "y_pred = lstm_model.predict(x_test_unsqueeze)\n",
        "y_pred = y_pred.argmax(axis=-1).ravel().tolist()\n",
        "report = classification_report(y_test, y_pred)\n",
        "print(report)"
      ],
      "execution_count": 68,
      "outputs": [
        {
          "output_type": "stream",
          "name": "stdout",
          "text": [
            "              precision    recall  f1-score   support\n",
            "\n",
            "           0       0.87      0.87      0.87      2289\n",
            "           1       0.67      0.70      0.68      2290\n",
            "           2       0.75      0.73      0.74      2290\n",
            "           3       0.91      0.92      0.92      2290\n",
            "           4       0.75      0.73      0.74      2290\n",
            "\n",
            "    accuracy                           0.79     11449\n",
            "   macro avg       0.79      0.79      0.79     11449\n",
            "weighted avg       0.79      0.79      0.79     11449\n",
            "\n"
          ]
        }
      ]
    },
    {
      "cell_type": "markdown",
      "metadata": {
        "id": "Ay0DSGrx97B0"
      },
      "source": [
        "**Random Forest**"
      ]
    },
    {
      "cell_type": "code",
      "metadata": {
        "colab": {
          "base_uri": "https://localhost:8080/"
        },
        "id": "of9v-X64zBgl",
        "outputId": "8679368d-79d8-4851-909f-332ec0a25fcd"
      },
      "source": [
        "y_pred = rfc.predict(x_test)\n",
        "report = classification_report(y_test, y_pred)\n",
        "print(report)"
      ],
      "execution_count": 70,
      "outputs": [
        {
          "output_type": "stream",
          "name": "stdout",
          "text": [
            "              precision    recall  f1-score   support\n",
            "\n",
            "           0       0.77      0.34      0.47      2289\n",
            "           1       0.46      0.71      0.56      2290\n",
            "           2       0.46      0.48      0.47      2290\n",
            "           3       0.68      0.99      0.81      2290\n",
            "           4       0.38      0.20      0.26      2290\n",
            "\n",
            "    accuracy                           0.54     11449\n",
            "   macro avg       0.55      0.54      0.51     11449\n",
            "weighted avg       0.55      0.54      0.51     11449\n",
            "\n"
          ]
        }
      ]
    },
    {
      "cell_type": "markdown",
      "metadata": {
        "id": "YDauu6qq99up"
      },
      "source": [
        "**XGBoost**"
      ]
    },
    {
      "cell_type": "code",
      "metadata": {
        "colab": {
          "base_uri": "https://localhost:8080/"
        },
        "id": "bb_DAHOnzCIJ",
        "outputId": "e88f9c19-dca3-4981-b6cf-9ad270ff50e9"
      },
      "source": [
        "y_pred = xgb.predict(x_test)\n",
        "report = classification_report(y_test, y_pred)\n",
        "print(report)"
      ],
      "execution_count": 71,
      "outputs": [
        {
          "output_type": "stream",
          "name": "stdout",
          "text": [
            "              precision    recall  f1-score   support\n",
            "\n",
            "           0       0.76      0.39      0.52      2289\n",
            "           1       0.52      0.66      0.58      2290\n",
            "           2       0.52      0.52      0.52      2290\n",
            "           3       0.74      0.93      0.82      2290\n",
            "           4       0.45      0.43      0.44      2290\n",
            "\n",
            "    accuracy                           0.59     11449\n",
            "   macro avg       0.60      0.59      0.58     11449\n",
            "weighted avg       0.60      0.59      0.58     11449\n",
            "\n"
          ]
        }
      ]
    }
  ]
}