{
 "cells": [
  {
   "cell_type": "markdown",
   "metadata": {},
   "source": [
    "# Sleep Pattern Prediction - Training Random Forest"
   ]
  },
  {
   "cell_type": "markdown",
   "metadata": {},
   "source": [
    "##  Loading Libraries"
   ]
  },
  {
   "cell_type": "code",
   "execution_count": 12,
   "metadata": {
    "executionInfo": {
     "elapsed": 4802,
     "status": "ok",
     "timestamp": 1637228838555,
     "user": {
      "displayName": "Abhishek Sahu",
      "photoUrl": "https://lh3.googleusercontent.com/a-/AOh14GgNSR66AfohLUalrpTyoTlI8YLN_Djdx8UeL7Bn=s64",
      "userId": "03564817529235302806"
     },
     "user_tz": -330
    },
    "id": "_v3HfSp6Uji5"
   },
   "outputs": [],
   "source": [
    "import numpy as np\n",
    "from sklearn.metrics import classification_report\n",
    "#from utils import gen, chunker, WINDOW_SIZE, rescale_array\n",
    "from keras.callbacks import ModelCheckpoint, EarlyStopping, ReduceLROnPlateau\n",
    "from sklearn.metrics import f1_score, accuracy_score, classification_report\n",
    "from glob import glob\n",
    "import os\n",
    "from sklearn.model_selection import train_test_split\n",
    "from tqdm import tqdm\n",
    "import tensorflow as tf\n",
    "from tensorflow.keras import optimizers, losses, activations, models\n",
    "#tf.keras.optimizers.Adam(learning_rate)\n",
    "from keras.layers import Dense, Input, Dropout, Convolution1D, MaxPool1D, GlobalMaxPool1D, GlobalAveragePooling1D, concatenate, SpatialDropout1D, TimeDistributed, Bidirectional, LSTM"
   ]
  },
  {
   "cell_type": "code",
   "execution_count": 1,
   "metadata": {
    "colab": {
     "base_uri": "https://localhost:8080/"
    },
    "executionInfo": {
     "elapsed": 23438,
     "status": "ok",
     "timestamp": 1637226859627,
     "user": {
      "displayName": "Abhishek Sahu",
      "photoUrl": "https://lh3.googleusercontent.com/a-/AOh14GgNSR66AfohLUalrpTyoTlI8YLN_Djdx8UeL7Bn=s64",
      "userId": "03564817529235302806"
     },
     "user_tz": -330
    },
    "id": "lcbQhkxLUsPi",
    "outputId": "ffceb4cd-e0f5-41c1-8217-22c88c683dbd"
   },
   "outputs": [
    {
     "name": "stdout",
     "output_type": "stream",
     "text": [
      "Mounted at /content/drive\n"
     ]
    }
   ],
   "source": [
    "from google.colab import drive\n",
    "drive.mount('/content/drive')"
   ]
  },
  {
   "cell_type": "markdown",
   "metadata": {},
   "source": [
    "## Loading Dataset"
   ]
  },
  {
   "cell_type": "code",
   "execution_count": 2,
   "metadata": {
    "executionInfo": {
     "elapsed": 548,
     "status": "ok",
     "timestamp": 1637226863359,
     "user": {
      "displayName": "Abhishek Sahu",
      "photoUrl": "https://lh3.googleusercontent.com/a-/AOh14GgNSR66AfohLUalrpTyoTlI8YLN_Djdx8UeL7Bn=s64",
      "userId": "03564817529235302806"
     },
     "user_tz": -330
    },
    "id": "6SnGiJfgUsmQ"
   },
   "outputs": [],
   "source": [
    "import numpy as np\n",
    "from numpy import load"
   ]
  },
  {
   "cell_type": "code",
   "execution_count": 3,
   "metadata": {
    "executionInfo": {
     "elapsed": 81973,
     "status": "ok",
     "timestamp": 1637226952535,
     "user": {
      "displayName": "Abhishek Sahu",
      "photoUrl": "https://lh3.googleusercontent.com/a-/AOh14GgNSR66AfohLUalrpTyoTlI8YLN_Djdx8UeL7Bn=s64",
      "userId": "03564817529235302806"
     },
     "user_tz": -330
    },
    "id": "9F5e-LMpU1W_"
   },
   "outputs": [],
   "source": [
    "x_train = load('/content/drive/MyDrive/Iot/Data/x_train.npy')\n",
    "y_train = load('/content/drive/MyDrive/Iot/Data/y_train.npy')\n",
    "x_val = load('/content/drive/MyDrive/Iot/Data/x_val.npy')\n",
    "y_val = load('/content/drive/MyDrive/Iot/Data/y_val.npy')\n",
    "x_test = load('/content/drive/MyDrive/Iot/Data/x_test.npy')\n",
    "y_test = load('/content/drive/MyDrive/Iot/Data/y_test.npy')"
   ]
  },
  {
   "cell_type": "markdown",
   "metadata": {},
   "source": [
    "## Random Forest Model"
   ]
  },
  {
   "cell_type": "code",
   "execution_count": 5,
   "metadata": {
    "executionInfo": {
     "elapsed": 529,
     "status": "ok",
     "timestamp": 1637226961587,
     "user": {
      "displayName": "Abhishek Sahu",
      "photoUrl": "https://lh3.googleusercontent.com/a-/AOh14GgNSR66AfohLUalrpTyoTlI8YLN_Djdx8UeL7Bn=s64",
      "userId": "03564817529235302806"
     },
     "user_tz": -330
    },
    "id": "G11qKhRMU3Q0"
   },
   "outputs": [],
   "source": [
    "from sklearn.ensemble import RandomForestClassifier\n",
    "rfc=RandomForestClassifier(n_estimators=100,max_depth=10, random_state=0)"
   ]
  },
  {
   "cell_type": "code",
   "execution_count": 6,
   "metadata": {
    "colab": {
     "base_uri": "https://localhost:8080/"
    },
    "executionInfo": {
     "elapsed": 524942,
     "status": "ok",
     "timestamp": 1637227514930,
     "user": {
      "displayName": "Abhishek Sahu",
      "photoUrl": "https://lh3.googleusercontent.com/a-/AOh14GgNSR66AfohLUalrpTyoTlI8YLN_Djdx8UeL7Bn=s64",
      "userId": "03564817529235302806"
     },
     "user_tz": -330
    },
    "id": "8CMGgAyaVDAO",
    "outputId": "27c5caa3-016e-4b6e-a79e-74e33415f6c7"
   },
   "outputs": [
    {
     "data": {
      "text/plain": [
       "RandomForestClassifier(max_depth=10, random_state=0)"
      ]
     },
     "execution_count": 6,
     "metadata": {},
     "output_type": "execute_result"
    }
   ],
   "source": [
    "rfc.fit(x_train,y_train)"
   ]
  },
  {
   "cell_type": "markdown",
   "metadata": {},
   "source": [
    "### Saving Model"
   ]
  },
  {
   "cell_type": "code",
   "execution_count": null,
   "metadata": {
    "colab": {
     "base_uri": "https://localhost:8080/"
    },
    "executionInfo": {
     "elapsed": 537,
     "status": "ok",
     "timestamp": 1637228777404,
     "user": {
      "displayName": "Abhishek Sahu",
      "photoUrl": "https://lh3.googleusercontent.com/a-/AOh14GgNSR66AfohLUalrpTyoTlI8YLN_Djdx8UeL7Bn=s64",
      "userId": "03564817529235302806"
     },
     "user_tz": -330
    },
    "id": "jD2OAtohVUO0",
    "outputId": "749376e9-8229-4f85-84f6-c130b1eebded"
   },
   "outputs": [],
   "source": [
    "import joblib\n",
    " \n",
    "# Save the model as a pickle in a file\n",
    "joblib.dump(rfc, '/content/drive/MyDrive/Iot/Model_Save/randomForest.pkl')"
   ]
  },
  {
   "cell_type": "code",
   "execution_count": 10,
   "metadata": {
    "executionInfo": {
     "elapsed": 3929,
     "status": "ok",
     "timestamp": 1637228818050,
     "user": {
      "displayName": "Abhishek Sahu",
      "photoUrl": "https://lh3.googleusercontent.com/a-/AOh14GgNSR66AfohLUalrpTyoTlI8YLN_Djdx8UeL7Bn=s64",
      "userId": "03564817529235302806"
     },
     "user_tz": -330
    },
    "id": "Q_Hr3unMcADo"
   },
   "outputs": [],
   "source": [
    "y_pred_train=rfc.predict(x_train)"
   ]
  },
  {
   "cell_type": "markdown",
   "metadata": {},
   "source": [
    "## Testing"
   ]
  },
  {
   "cell_type": "markdown",
   "metadata": {},
   "source": [
    "### Testing on Training Data"
   ]
  },
  {
   "cell_type": "code",
   "execution_count": 13,
   "metadata": {
    "colab": {
     "base_uri": "https://localhost:8080/"
    },
    "executionInfo": {
     "elapsed": 537,
     "status": "ok",
     "timestamp": 1637228844746,
     "user": {
      "displayName": "Abhishek Sahu",
      "photoUrl": "https://lh3.googleusercontent.com/a-/AOh14GgNSR66AfohLUalrpTyoTlI8YLN_Djdx8UeL7Bn=s64",
      "userId": "03564817529235302806"
     },
     "user_tz": -330
    },
    "id": "WG_e6CxMcRoT",
    "outputId": "5ed39f7b-3462-4e39-be39-6d59ad5fa33e"
   },
   "outputs": [
    {
     "name": "stdout",
     "output_type": "stream",
     "text": [
      "              precision    recall  f1-score   support\n",
      "\n",
      "           0       0.92      0.58      0.71     18548\n",
      "           1       0.47      0.73      0.57     18547\n",
      "           2       0.58      0.67      0.62     18547\n",
      "           3       0.86      1.00      0.93     18547\n",
      "           4       0.43      0.22      0.29     18547\n",
      "\n",
      "    accuracy                           0.64     92736\n",
      "   macro avg       0.65      0.64      0.62     92736\n",
      "weighted avg       0.65      0.64      0.62     92736\n",
      "\n"
     ]
    }
   ],
   "source": [
    "report = classification_report(y_train, y_pred_train)\n",
    "print(report)"
   ]
  },
  {
   "cell_type": "markdown",
   "metadata": {},
   "source": [
    "### Testing on Validation Data"
   ]
  },
  {
   "cell_type": "code",
   "execution_count": 14,
   "metadata": {
    "colab": {
     "base_uri": "https://localhost:8080/"
    },
    "executionInfo": {
     "elapsed": 1335,
     "status": "ok",
     "timestamp": 1637228888209,
     "user": {
      "displayName": "Abhishek Sahu",
      "photoUrl": "https://lh3.googleusercontent.com/a-/AOh14GgNSR66AfohLUalrpTyoTlI8YLN_Djdx8UeL7Bn=s64",
      "userId": "03564817529235302806"
     },
     "user_tz": -330
    },
    "id": "JOs4V1gocUWm",
    "outputId": "3100601e-8a3e-45ed-90f7-c0d25345da8b"
   },
   "outputs": [
    {
     "name": "stdout",
     "output_type": "stream",
     "text": [
      "              precision    recall  f1-score   support\n",
      "\n",
      "           0       0.79      0.34      0.48      2061\n",
      "           1       0.46      0.72      0.56      2061\n",
      "           2       0.48      0.51      0.49      2061\n",
      "           3       0.69      0.98      0.81      2061\n",
      "           4       0.38      0.19      0.25      2061\n",
      "\n",
      "    accuracy                           0.55     10305\n",
      "   macro avg       0.56      0.55      0.52     10305\n",
      "weighted avg       0.56      0.55      0.52     10305\n",
      "\n"
     ]
    }
   ],
   "source": [
    "y_pred_val=rfc.predict(x_val)\n",
    "report = classification_report(y_val, y_pred_val)\n",
    "print(report)"
   ]
  },
  {
   "cell_type": "markdown",
   "metadata": {},
   "source": [
    "### Testing on Testing Data"
   ]
  },
  {
   "cell_type": "code",
   "execution_count": 15,
   "metadata": {
    "colab": {
     "base_uri": "https://localhost:8080/"
    },
    "executionInfo": {
     "elapsed": 1283,
     "status": "ok",
     "timestamp": 1637228912495,
     "user": {
      "displayName": "Abhishek Sahu",
      "photoUrl": "https://lh3.googleusercontent.com/a-/AOh14GgNSR66AfohLUalrpTyoTlI8YLN_Djdx8UeL7Bn=s64",
      "userId": "03564817529235302806"
     },
     "user_tz": -330
    },
    "id": "DB9JpkMrcjcI",
    "outputId": "e505dcf2-bf3f-4376-bec6-1c03b5245a31"
   },
   "outputs": [
    {
     "name": "stdout",
     "output_type": "stream",
     "text": [
      "              precision    recall  f1-score   support\n",
      "\n",
      "           0       0.77      0.34      0.47      2289\n",
      "           1       0.46      0.71      0.56      2290\n",
      "           2       0.46      0.48      0.47      2290\n",
      "           3       0.68      0.99      0.81      2290\n",
      "           4       0.38      0.20      0.26      2290\n",
      "\n",
      "    accuracy                           0.54     11449\n",
      "   macro avg       0.55      0.54      0.51     11449\n",
      "weighted avg       0.55      0.54      0.51     11449\n",
      "\n"
     ]
    }
   ],
   "source": [
    "y_pred_test=rfc.predict(x_test)\n",
    "report = classification_report(y_test, y_pred_test)\n",
    "print(report)"
   ]
  }
 ],
 "metadata": {
  "colab": {
   "authorship_tag": "ABX9TyO5UNjb1fFDbwVqMtl32QBH",
   "collapsed_sections": [],
   "name": "Random Forest.ipynb",
   "provenance": []
  },
  "kernelspec": {
   "display_name": "Python 3",
   "language": "python",
   "name": "python3"
  },
  "language_info": {
   "codemirror_mode": {
    "name": "ipython",
    "version": 3
   },
   "file_extension": ".py",
   "mimetype": "text/x-python",
   "name": "python",
   "nbconvert_exporter": "python",
   "pygments_lexer": "ipython3",
   "version": "3.8.8"
  }
 },
 "nbformat": 4,
 "nbformat_minor": 1
}
